{
 "cells": [
  {
   "cell_type": "markdown",
   "metadata": {},
   "source": [
    "### ØVELSER: BASAL PYTHON"
   ]
  },
  {
   "cell_type": "markdown",
   "metadata": {},
   "source": [
    "__1. opgave:__  \n",
    "Lav en liste af heltal i stigende rækkefølge fra 1 til 110 ($1, 2, 3, 4,..., 110$). Anvend `list()` og `range`. Udskriv listen til sidst."
   ]
  },
  {
   "cell_type": "code",
   "execution_count": 17,
   "metadata": {},
   "outputs": [
    {
     "name": "stdout",
     "output_type": "stream",
     "text": [
      "[1, 2, 3, 4, 5, 6, 7, 8, 9, 10, 11, 12, 13, 14, 15, 16, 17, 18, 19, 20, 21, 22, 23, 24, 25, 26, 27, 28, 29, 30, 31, 32, 33, 34, 35, 36, 37, 38, 39, 40, 41, 42, 43, 44, 45, 46, 47, 48, 49, 50, 51, 52, 53, 54, 55, 56, 57, 58, 59, 60, 61, 62, 63, 64, 65, 66, 67, 68, 69, 70, 71, 72, 73, 74, 75, 76, 77, 78, 79, 80, 81, 82, 83, 84, 85, 86, 87, 88, 89, 90, 91, 92, 93, 94, 95, 96, 97, 98, 99, 100, 101, 102, 103, 104, 105, 106, 107, 108, 109, 110]\n"
     ]
    }
   ],
   "source": [
    "list1 = list(range(1,111))\n",
    "\n",
    "print(list1)"
   ]
  },
  {
   "cell_type": "markdown",
   "metadata": {},
   "source": [
    "__2. opgave:__  \n",
    "Tilgå elementer i listen fra opgave 1 ved at bruge slicing. Lav en ny liste, der indeholder tallene 55 til 79. Udskriv listen."
   ]
  },
  {
   "cell_type": "code",
   "execution_count": 18,
   "metadata": {},
   "outputs": [
    {
     "name": "stdout",
     "output_type": "stream",
     "text": [
      "[55, 56, 57, 58, 59, 60, 61, 62, 63, 64, 65, 66, 67, 68, 69, 70, 71, 72, 73, 74, 75, 76, 77, 78, 79]\n"
     ]
    }
   ],
   "source": [
    "list2 = list1[54:79]\n",
    "\n",
    "print(list2)"
   ]
  },
  {
   "cell_type": "markdown",
   "metadata": {},
   "source": [
    "__3. opgave:__  \n",
    "Lav en funktion med `def`, der tager et tal som input og retunerer tallet ganget med sig selv plus 3.  \n",
    "$f(x)=x(x+3)$"
   ]
  },
  {
   "cell_type": "code",
   "execution_count": 19,
   "metadata": {},
   "outputs": [],
   "source": [
    "def multiply_plus_three(x):\n",
    "    return x*(x+3)"
   ]
  },
  {
   "cell_type": "markdown",
   "metadata": {},
   "source": [
    "__4. opgave:__  \n",
    "Brug din nye funktion på alle tal i listen fra opgave 2. Anvend en `for` loop til at gennemgå alle elementer i listen og skriv løbende de udregnede værdier ind i en ny liste med `append`. Udskriv den nye liste."
   ]
  },
  {
   "cell_type": "code",
   "execution_count": 20,
   "metadata": {},
   "outputs": [
    {
     "name": "stdout",
     "output_type": "stream",
     "text": [
      "[3190, 3304, 3420, 3538, 3658, 3780, 3904, 4030, 4158, 4288, 4420, 4554, 4690, 4828, 4968, 5110, 5254, 5400, 5548, 5698, 5850, 6004, 6160, 6318, 6478]\n"
     ]
    }
   ],
   "source": [
    "list3 = []\n",
    "\n",
    "for num in list2:\n",
    "    list3.append(multiply_plus_three(num))\n",
    "\n",
    "print(list3)"
   ]
  },
  {
   "cell_type": "markdown",
   "metadata": {},
   "source": [
    "__5. opgave:__  \n",
    "Gør det samme som i opgave 4, men ved hjælp af list comprehension."
   ]
  },
  {
   "cell_type": "code",
   "execution_count": 21,
   "metadata": {},
   "outputs": [
    {
     "name": "stdout",
     "output_type": "stream",
     "text": [
      "[3190, 3304, 3420, 3538, 3658, 3780, 3904, 4030, 4158, 4288, 4420, 4554, 4690, 4828, 4968, 5110, 5254, 5400, 5548, 5698, 5850, 6004, 6160, 6318, 6478]\n"
     ]
    }
   ],
   "source": [
    "list4 = [multiply_plus_three(num) for num in list2]\n",
    "\n",
    "print(list4)"
   ]
  },
  {
   "cell_type": "markdown",
   "metadata": {},
   "source": [
    "### ØVELSER: DATA ANALYSE"
   ]
  },
  {
   "cell_type": "markdown",
   "metadata": {},
   "source": [
    "__1. opgave:__  \n",
    "Importer de python biblioteker, som vil blive brugt i opgaverne. Der skal arbejdes med numpy arrays, visualiseringer og lineær regression."
   ]
  },
  {
   "cell_type": "code",
   "execution_count": 22,
   "metadata": {},
   "outputs": [
    {
     "name": "stdout",
     "output_type": "stream",
     "text": [
      "Requirement already satisfied: pyfiglet<1,>=0.7.6 in /anaconda3/lib/python3.7/site-packages (from -r requirements.txt (line 1)) (0.8.post1)\n",
      "Requirement already satisfied: termcolor<2,>=1.1.0 in /anaconda3/lib/python3.7/site-packages (from -r requirements.txt (line 2)) (1.1.0)\n",
      "Requirement already satisfied: BeautifulSoup4<5,>=4.6.0 in /anaconda3/lib/python3.7/site-packages (from -r requirements.txt (line 3)) (4.7.1)\n",
      "Requirement already satisfied: twitter<2,>=1.18.0 in /anaconda3/lib/python3.7/site-packages (from -r requirements.txt (line 4)) (1.18.0)\n",
      "Requirement already satisfied: jupyterlab>=0.35.6 in /anaconda3/lib/python3.7/site-packages (from -r requirements.txt (line 5)) (0.35.6)\n",
      "Requirement already satisfied: requests in /anaconda3/lib/python3.7/site-packages (from -r requirements.txt (line 6)) (2.21.0)\n",
      "Requirement already satisfied: scipy in /anaconda3/lib/python3.7/site-packages (from -r requirements.txt (line 7)) (1.2.1)\n",
      "Requirement already satisfied: numpy in /anaconda3/lib/python3.7/site-packages (from -r requirements.txt (line 8)) (1.16.3)\n",
      "Requirement already satisfied: scikit-learn in /anaconda3/lib/python3.7/site-packages (from -r requirements.txt (line 9)) (0.20.3)\n",
      "Requirement already satisfied: matplotlib in /anaconda3/lib/python3.7/site-packages (from -r requirements.txt (line 10)) (3.0.3)\n",
      "Requirement already satisfied: pandas in /anaconda3/lib/python3.7/site-packages (from -r requirements.txt (line 11)) (0.24.2)\n",
      "Requirement already satisfied: soupsieve>=1.2 in /anaconda3/lib/python3.7/site-packages (from BeautifulSoup4<5,>=4.6.0->-r requirements.txt (line 3)) (1.9.1)\n",
      "Requirement already satisfied: jupyterlab-server<0.3.0,>=0.2.0 in /anaconda3/lib/python3.7/site-packages (from jupyterlab>=0.35.6->-r requirements.txt (line 5)) (0.2.0)\n",
      "Requirement already satisfied: notebook>=4.3.1 in /anaconda3/lib/python3.7/site-packages (from jupyterlab>=0.35.6->-r requirements.txt (line 5)) (5.7.8)\n",
      "Requirement already satisfied: chardet<3.1.0,>=3.0.2 in /anaconda3/lib/python3.7/site-packages (from requests->-r requirements.txt (line 6)) (3.0.4)\n",
      "Requirement already satisfied: idna<2.9,>=2.5 in /anaconda3/lib/python3.7/site-packages (from requests->-r requirements.txt (line 6)) (2.8)\n",
      "Requirement already satisfied: urllib3<1.25,>=1.21.1 in /anaconda3/lib/python3.7/site-packages (from requests->-r requirements.txt (line 6)) (1.24.1)\n",
      "Requirement already satisfied: certifi>=2017.4.17 in /anaconda3/lib/python3.7/site-packages (from requests->-r requirements.txt (line 6)) (2019.3.9)\n",
      "Requirement already satisfied: kiwisolver>=1.0.1 in /anaconda3/lib/python3.7/site-packages (from matplotlib->-r requirements.txt (line 10)) (1.1.0)\n",
      "Requirement already satisfied: python-dateutil>=2.1 in /anaconda3/lib/python3.7/site-packages (from matplotlib->-r requirements.txt (line 10)) (2.8.0)\n",
      "Requirement already satisfied: pyparsing!=2.0.4,!=2.1.2,!=2.1.6,>=2.0.1 in /anaconda3/lib/python3.7/site-packages (from matplotlib->-r requirements.txt (line 10)) (2.4.0)\n",
      "Requirement already satisfied: cycler>=0.10 in /anaconda3/lib/python3.7/site-packages (from matplotlib->-r requirements.txt (line 10)) (0.10.0)\n",
      "Requirement already satisfied: pytz>=2011k in /anaconda3/lib/python3.7/site-packages (from pandas->-r requirements.txt (line 11)) (2019.1)\n",
      "Requirement already satisfied: jsonschema>=2.6.0 in /anaconda3/lib/python3.7/site-packages (from jupyterlab-server<0.3.0,>=0.2.0->jupyterlab>=0.35.6->-r requirements.txt (line 5)) (3.0.1)\n",
      "Requirement already satisfied: ipykernel in /anaconda3/lib/python3.7/site-packages (from notebook>=4.3.1->jupyterlab>=0.35.6->-r requirements.txt (line 5)) (5.1.0)\n",
      "Requirement already satisfied: traitlets>=4.2.1 in /anaconda3/lib/python3.7/site-packages (from notebook>=4.3.1->jupyterlab>=0.35.6->-r requirements.txt (line 5)) (4.3.2)\n",
      "Requirement already satisfied: ipython-genutils in /anaconda3/lib/python3.7/site-packages (from notebook>=4.3.1->jupyterlab>=0.35.6->-r requirements.txt (line 5)) (0.2.0)\n",
      "Requirement already satisfied: nbformat in /anaconda3/lib/python3.7/site-packages (from notebook>=4.3.1->jupyterlab>=0.35.6->-r requirements.txt (line 5)) (4.4.0)\n",
      "Requirement already satisfied: pyzmq>=17 in /anaconda3/lib/python3.7/site-packages (from notebook>=4.3.1->jupyterlab>=0.35.6->-r requirements.txt (line 5)) (17.1.2)\n",
      "Requirement already satisfied: terminado>=0.8.1 in /anaconda3/lib/python3.7/site-packages (from notebook>=4.3.1->jupyterlab>=0.35.6->-r requirements.txt (line 5)) (0.8.2)\n",
      "Requirement already satisfied: jupyter-core>=4.4.0 in /anaconda3/lib/python3.7/site-packages (from notebook>=4.3.1->jupyterlab>=0.35.6->-r requirements.txt (line 5)) (4.4.0)\n",
      "Requirement already satisfied: Send2Trash in /anaconda3/lib/python3.7/site-packages (from notebook>=4.3.1->jupyterlab>=0.35.6->-r requirements.txt (line 5)) (1.5.0)\n",
      "Requirement already satisfied: jupyter-client>=5.2.0 in /anaconda3/lib/python3.7/site-packages (from notebook>=4.3.1->jupyterlab>=0.35.6->-r requirements.txt (line 5)) (5.2.4)\n",
      "Requirement already satisfied: prometheus-client in /anaconda3/lib/python3.7/site-packages (from notebook>=4.3.1->jupyterlab>=0.35.6->-r requirements.txt (line 5)) (0.6.0)\n",
      "Requirement already satisfied: jinja2 in /anaconda3/lib/python3.7/site-packages (from notebook>=4.3.1->jupyterlab>=0.35.6->-r requirements.txt (line 5)) (2.10.1)\n",
      "Requirement already satisfied: tornado<7,>=4.1 in /anaconda3/lib/python3.7/site-packages (from notebook>=4.3.1->jupyterlab>=0.35.6->-r requirements.txt (line 5)) (6.0.2)\n",
      "Requirement already satisfied: nbconvert in /anaconda3/lib/python3.7/site-packages (from notebook>=4.3.1->jupyterlab>=0.35.6->-r requirements.txt (line 5)) (5.5.0)\n",
      "Requirement already satisfied: setuptools in /anaconda3/lib/python3.7/site-packages (from kiwisolver>=1.0.1->matplotlib->-r requirements.txt (line 10)) (41.0.0)\n",
      "Requirement already satisfied: six>=1.5 in /anaconda3/lib/python3.7/site-packages (from python-dateutil>=2.1->matplotlib->-r requirements.txt (line 10)) (1.12.0)\n",
      "Requirement already satisfied: attrs>=17.4.0 in /anaconda3/lib/python3.7/site-packages (from jsonschema>=2.6.0->jupyterlab-server<0.3.0,>=0.2.0->jupyterlab>=0.35.6->-r requirements.txt (line 5)) (19.1.0)\n",
      "Requirement already satisfied: pyrsistent>=0.14.0 in /anaconda3/lib/python3.7/site-packages (from jsonschema>=2.6.0->jupyterlab-server<0.3.0,>=0.2.0->jupyterlab>=0.35.6->-r requirements.txt (line 5)) (0.15.0)\n",
      "Requirement already satisfied: ipython>=5.0.0 in /anaconda3/lib/python3.7/site-packages (from ipykernel->notebook>=4.3.1->jupyterlab>=0.35.6->-r requirements.txt (line 5)) (7.4.0)\n",
      "Requirement already satisfied: decorator in /anaconda3/lib/python3.7/site-packages (from traitlets>=4.2.1->notebook>=4.3.1->jupyterlab>=0.35.6->-r requirements.txt (line 5)) (4.4.0)\n",
      "Requirement already satisfied: MarkupSafe>=0.23 in /anaconda3/lib/python3.7/site-packages (from jinja2->notebook>=4.3.1->jupyterlab>=0.35.6->-r requirements.txt (line 5)) (1.1.1)\n",
      "Requirement already satisfied: pygments in /anaconda3/lib/python3.7/site-packages (from nbconvert->notebook>=4.3.1->jupyterlab>=0.35.6->-r requirements.txt (line 5)) (2.3.1)\n",
      "Requirement already satisfied: mistune>=0.8.1 in /anaconda3/lib/python3.7/site-packages (from nbconvert->notebook>=4.3.1->jupyterlab>=0.35.6->-r requirements.txt (line 5)) (0.8.4)\n",
      "Requirement already satisfied: entrypoints>=0.2.2 in /anaconda3/lib/python3.7/site-packages (from nbconvert->notebook>=4.3.1->jupyterlab>=0.35.6->-r requirements.txt (line 5)) (0.3)\n",
      "Requirement already satisfied: pandocfilters>=1.4.1 in /anaconda3/lib/python3.7/site-packages (from nbconvert->notebook>=4.3.1->jupyterlab>=0.35.6->-r requirements.txt (line 5)) (1.4.2)\n",
      "Requirement already satisfied: testpath in /anaconda3/lib/python3.7/site-packages (from nbconvert->notebook>=4.3.1->jupyterlab>=0.35.6->-r requirements.txt (line 5)) (0.4.2)\n",
      "Requirement already satisfied: defusedxml in /anaconda3/lib/python3.7/site-packages (from nbconvert->notebook>=4.3.1->jupyterlab>=0.35.6->-r requirements.txt (line 5)) (0.5.0)\n",
      "Requirement already satisfied: bleach in /anaconda3/lib/python3.7/site-packages (from nbconvert->notebook>=4.3.1->jupyterlab>=0.35.6->-r requirements.txt (line 5)) (3.1.0)\n",
      "Requirement already satisfied: appnope; sys_platform == \"darwin\" in /anaconda3/lib/python3.7/site-packages (from ipython>=5.0.0->ipykernel->notebook>=4.3.1->jupyterlab>=0.35.6->-r requirements.txt (line 5)) (0.1.0)\n",
      "Requirement already satisfied: pickleshare in /anaconda3/lib/python3.7/site-packages (from ipython>=5.0.0->ipykernel->notebook>=4.3.1->jupyterlab>=0.35.6->-r requirements.txt (line 5)) (0.7.5)\n",
      "Requirement already satisfied: prompt-toolkit<2.1.0,>=2.0.0 in /anaconda3/lib/python3.7/site-packages (from ipython>=5.0.0->ipykernel->notebook>=4.3.1->jupyterlab>=0.35.6->-r requirements.txt (line 5)) (2.0.9)\n",
      "Requirement already satisfied: backcall in /anaconda3/lib/python3.7/site-packages (from ipython>=5.0.0->ipykernel->notebook>=4.3.1->jupyterlab>=0.35.6->-r requirements.txt (line 5)) (0.1.0)\n",
      "Requirement already satisfied: pexpect; sys_platform != \"win32\" in /anaconda3/lib/python3.7/site-packages (from ipython>=5.0.0->ipykernel->notebook>=4.3.1->jupyterlab>=0.35.6->-r requirements.txt (line 5)) (4.7.0)\n",
      "Requirement already satisfied: jedi>=0.10 in /anaconda3/lib/python3.7/site-packages (from ipython>=5.0.0->ipykernel->notebook>=4.3.1->jupyterlab>=0.35.6->-r requirements.txt (line 5)) (0.13.3)\n",
      "Requirement already satisfied: webencodings in /anaconda3/lib/python3.7/site-packages (from bleach->nbconvert->notebook>=4.3.1->jupyterlab>=0.35.6->-r requirements.txt (line 5)) (0.5.1)\n",
      "Requirement already satisfied: wcwidth in /anaconda3/lib/python3.7/site-packages (from prompt-toolkit<2.1.0,>=2.0.0->ipython>=5.0.0->ipykernel->notebook>=4.3.1->jupyterlab>=0.35.6->-r requirements.txt (line 5)) (0.1.7)\n",
      "Requirement already satisfied: ptyprocess>=0.5 in /anaconda3/lib/python3.7/site-packages (from pexpect; sys_platform != \"win32\"->ipython>=5.0.0->ipykernel->notebook>=4.3.1->jupyterlab>=0.35.6->-r requirements.txt (line 5)) (0.6.0)\n",
      "Requirement already satisfied: parso>=0.3.0 in /anaconda3/lib/python3.7/site-packages (from jedi>=0.10->ipython>=5.0.0->ipykernel->notebook>=4.3.1->jupyterlab>=0.35.6->-r requirements.txt (line 5)) (0.4.0)\n"
     ]
    }
   ],
   "source": [
    "%%bash\n",
    "pip install -r requirements.txt"
   ]
  },
  {
   "cell_type": "code",
   "execution_count": 23,
   "metadata": {},
   "outputs": [],
   "source": [
    "import pandas as pd\n",
    "import numpy as np\n",
    "import matplotlib.pyplot as plt\n",
    "\n",
    "from scipy import stats"
   ]
  },
  {
   "cell_type": "markdown",
   "metadata": {},
   "source": [
    "__2. opgave:__  \n",
    "Indlæs 4 forskellige datasæt med x-værdier og y-værdier fra følgende filer: **Data1.csv**, **Data2.csv**, **Data3.csv**, **Data4.csv**.  \n",
    "Sørg for at værdierne bliver gemt som numpy arrays.  "
   ]
  },
  {
   "cell_type": "code",
   "execution_count": 24,
   "metadata": {},
   "outputs": [],
   "source": [
    "FILES = ['Data1.csv', 'Data2.csv', 'Data3.csv', 'Data4.csv']\n",
    "\n",
    "datasets = [pd.read_csv('Data/' + file, sep=',', header=None).values for file in FILES]"
   ]
  },
  {
   "cell_type": "markdown",
   "metadata": {},
   "source": [
    "__3. opgave:__  \n",
    "Udregn middelværdien og variansen for hver variabel i hvert datasæt. Udskriv de udregnede værdier, så de kan sammenlignes på tværs af datasæt (for at få et bedre overblik kan man bruge string formatting til kun at printe 2 decimaler). Brug numpy indbyggede metoder til at beregne middelværdier og varianser."
   ]
  },
  {
   "cell_type": "code",
   "execution_count": 25,
   "metadata": {},
   "outputs": [
    {
     "name": "stdout",
     "output_type": "stream",
     "text": [
      "Mean values for data set 1:\n",
      "      9.00\n",
      "      7.50\n",
      "Mean values for data set 2:\n",
      "      9.00\n",
      "      7.50\n",
      "Mean values for data set 3:\n",
      "      9.00\n",
      "      7.50\n",
      "Mean values for data set 4:\n",
      "      9.00\n",
      "      7.50\n"
     ]
    }
   ],
   "source": [
    "x_means = []\n",
    "y_means = []\n",
    "\n",
    "for idx,data in enumerate(datasets):\n",
    "    x_means.append(np.mean(data,axis=0)[0])\n",
    "    y_means.append(np.mean(data,axis=0)[1])\n",
    "    \n",
    "    print('Mean values for data set %d:' % (idx+1))\n",
    "    print('{:10.2f}'.format(x_means[idx]))\n",
    "    print('{:10.2f}'.format(y_means[idx]))"
   ]
  },
  {
   "cell_type": "code",
   "execution_count": 26,
   "metadata": {},
   "outputs": [
    {
     "name": "stdout",
     "output_type": "stream",
     "text": [
      "Variances for data set 1:\n",
      "     10.00\n",
      "      3.75\n",
      "Variances for data set 2:\n",
      "     10.00\n",
      "      3.75\n",
      "Variances for data set 3:\n",
      "     10.00\n",
      "      3.75\n",
      "Variances for data set 4:\n",
      "     10.00\n",
      "      3.75\n"
     ]
    }
   ],
   "source": [
    "x_var = []\n",
    "y_var = []\n",
    "\n",
    "for idx,data in enumerate(datasets):\n",
    "    x_var.append(np.var(data,axis=0)[0])\n",
    "    y_var.append(np.var(data,axis=0)[1])\n",
    "    \n",
    "    print('Variances for data set %d:' % (idx+1))\n",
    "    print('{:10.2f}'.format(x_var[idx]))\n",
    "    print('{:10.2f}'.format(y_var[idx]))"
   ]
  },
  {
   "cell_type": "markdown",
   "metadata": {},
   "source": [
    "__4. opgave:__  \n",
    "Brug numpy til at beregne Pearson correlation mellem x- og y-værdierne i hvert datasæt. Udskriv de udregnede værdier, så de kan sammenlignes på tværs af datasæt."
   ]
  },
  {
   "cell_type": "code",
   "execution_count": 27,
   "metadata": {},
   "outputs": [
    {
     "name": "stdout",
     "output_type": "stream",
     "text": [
      "Pearson correlation for data set 1:\n",
      "      0.82\n",
      "Pearson correlation for data set 2:\n",
      "      0.82\n",
      "Pearson correlation for data set 3:\n",
      "      0.82\n",
      "Pearson correlation for data set 4:\n",
      "      0.82\n"
     ]
    }
   ],
   "source": [
    "pear_cor = []\n",
    "\n",
    "for idx,data in enumerate(datasets):\n",
    "    pear_cor.append(np.corrcoef(data[:,0], data[:,1])[0, 1])\n",
    "    \n",
    "    print('Pearson correlation for data set %d:' % (idx+1))\n",
    "    print('{:10.2f}'.format(pear_cor[idx]))"
   ]
  },
  {
   "cell_type": "markdown",
   "metadata": {},
   "source": [
    "__5. opgave:__  \n",
    "I denne opgave skal man lave en lineær regression på hvert datasæt, der skal altså fittes en ret linje igennem hvert datasæt, $f(x)=a·x+b$. Brug **stats.linregress(x, y)** fra scipy biblioteket. Udskriv $slope$- og $intercept$-værdierne, så de kan sammenlignes på tværs af datasæt."
   ]
  },
  {
   "cell_type": "code",
   "execution_count": 28,
   "metadata": {},
   "outputs": [
    {
     "name": "stdout",
     "output_type": "stream",
     "text": [
      "Slopes and intercepts for data set 1\n",
      "\ta = 0.50\n",
      "\tb = 3.00\n",
      "Slopes and intercepts for data set 2\n",
      "\ta = 0.50\n",
      "\tb = 3.00\n",
      "Slopes and intercepts for data set 3\n",
      "\ta = 0.50\n",
      "\tb = 3.00\n",
      "Slopes and intercepts for data set 4\n",
      "\ta = 0.50\n",
      "\tb = 3.00\n"
     ]
    }
   ],
   "source": [
    "slopes = []\n",
    "intceps = []\n",
    "\n",
    "for idx,data in enumerate(datasets):\n",
    "    slope, intercept, r_value, p_value, std_err = stats.linregress(data[:,0], data[:,1])\n",
    "    slopes.append(slope)\n",
    "    intceps.append(intercept)\n",
    "    \n",
    "    print('Slopes and intercepts for data set %d' % (idx+1))\n",
    "    print('\\ta = {:1.2f}'.format(slopes[idx]))\n",
    "    print('\\tb = {:1.2f}'.format(intceps[idx]))"
   ]
  },
  {
   "cell_type": "markdown",
   "metadata": {},
   "source": [
    "__6. opgave:__  \n",
    "Lav et scatterplot over punkterne i hvert datasæt (dvs. lav 4 scatter plots). Brug det samme interval på x- og y-akserne for hvert datasæt. Inkluder gerne den rette linje fra de lineære regressioner i forrige opgave."
   ]
  },
  {
   "cell_type": "code",
   "execution_count": 29,
   "metadata": {},
   "outputs": [
    {
     "data": {
      "image/png": "[encoded data removed]",
      "text/plain": [
       "<Figure size 1296x720 with 4 Axes>"
      ]
     },
     "metadata": {
      "needs_background": "light"
     },
     "output_type": "display_data"
    }
   ],
   "source": [
    "# Plot degree distributions with linear axis and log axis\n",
    "plt.figure(figsize=(18, 10))\n",
    "\n",
    "for idx,data in enumerate(datasets):\n",
    "    regression_input = range(3,19)\n",
    "    regression_output = [slopes[idx] * i + intceps[idx] for i in regression_input]\n",
    "    plt.subplot(2, 2, idx+1)\n",
    "    plt.plot(data[:,0], data[:,1], 'b.', regression_input, regression_output, 'r-')\n",
    "    plt.axis([2, 20, 0, 15])\n",
    "    plt.xlabel('x')\n",
    "    plt.ylabel('y')\n",
    "    plt.title('Data set %d' % (idx+1))"
   ]
  },
  {
   "cell_type": "markdown",
   "metadata": {},
   "source": [
    "__7. opgave (avanceret):__  \n",
    "I denne opgave skal man:  \n",
    "* Indlæs datasættet som indeholder personers cpr-nummer, vægt og højde i et pandas dataframe. Samme datasæt blev brugt i præsentationen og kan findes i filen: **df_personal_characteristic.csv**\n",
    "* Tilføj en ny kolonne der indeholder køn.\n",
    "* Tilføj en ny kolonne der indeholder BMI. $$BMI = \\frac{vægt}{{højde}^2}$$\n",
    "* Afprøv forskellige klassifikationsmodeller fra scikit-learn til at prædiktere køn ud fra vægt og højde. Start med *Support Vector Machine*.\n",
    "* Mål modellernes accuracy og visualiser det med matplotlib."
   ]
  },
  {
   "cell_type": "code",
   "execution_count": null,
   "metadata": {},
   "outputs": [],
   "source": []
  }
 ],
 "metadata": {
  "kernelspec": {
   "display_name": "Python 3",
   "language": "python",
   "name": "python3"
  },
  "language_info": {
   "codemirror_mode": {
    "name": "ipython",
    "version": 3
   },
   "file_extension": ".py",
   "mimetype": "text/x-python",
   "name": "python",
   "nbconvert_exporter": "python",
   "pygments_lexer": "ipython3",
   "version": "3.7.0"
  }
 },
 "nbformat": 4,
 "nbformat_minor": 2
}
