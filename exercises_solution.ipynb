{
 "cells": [
  {
   "cell_type": "markdown",
   "metadata": {},
   "source": [
    "### ØVELSER: BASAL PYTHON"
   ]
  },
  {
   "cell_type": "markdown",
   "metadata": {},
   "source": [
    "__1. opgave:__  \n",
    "Lav en liste af heltal i stigende rækkefølge fra 1 til 110 ($1, 2, 3, 4,..., 110$). Anvend `list()` og `range`. Udskriv listen til sidst."
   ]
  },
  {
   "cell_type": "code",
   "execution_count": 15,
   "metadata": {},
   "outputs": [
    {
     "name": "stdout",
     "output_type": "stream",
     "text": [
      "[1, 2, 3, 4, 5, 6, 7, 8, 9, 10, 11, 12, 13, 14, 15, 16, 17, 18, 19, 20, 21, 22, 23, 24, 25, 26, 27, 28, 29, 30, 31, 32, 33, 34, 35, 36, 37, 38, 39, 40, 41, 42, 43, 44, 45, 46, 47, 48, 49, 50, 51, 52, 53, 54, 55, 56, 57, 58, 59, 60, 61, 62, 63, 64, 65, 66, 67, 68, 69, 70, 71, 72, 73, 74, 75, 76, 77, 78, 79, 80, 81, 82, 83, 84, 85, 86, 87, 88, 89, 90, 91, 92, 93, 94, 95, 96, 97, 98, 99, 100, 101, 102, 103, 104, 105, 106, 107, 108, 109, 110]\n"
     ]
    }
   ],
   "source": [
    "list1 = list(range(1,111))\n",
    "\n",
    "print(list1)"
   ]
  },
  {
   "cell_type": "markdown",
   "metadata": {},
   "source": [
    "__2. opgave:__  \n",
    "Tilgå elementer i listen fra opgave 1 ved at bruge slicing. Lav en ny liste, der indeholder tallene 55 til 79. Udskriv listen."
   ]
  },
  {
   "cell_type": "code",
   "execution_count": 16,
   "metadata": {},
   "outputs": [
    {
     "name": "stdout",
     "output_type": "stream",
     "text": [
      "[55, 56, 57, 58, 59, 60, 61, 62, 63, 64, 65, 66, 67, 68, 69, 70, 71, 72, 73, 74, 75, 76, 77, 78, 79]\n"
     ]
    }
   ],
   "source": [
    "list2 = list1[54:79]\n",
    "\n",
    "print(list2)"
   ]
  },
  {
   "cell_type": "markdown",
   "metadata": {},
   "source": [
    "__3. opgave:__  \n",
    "Lav en funktion med `def`, der tager et tal som input og retunerer tallet ganget med sig selv plus 3.  \n",
    "$f(x)=x(x+3)$"
   ]
  },
  {
   "cell_type": "code",
   "execution_count": 17,
   "metadata": {},
   "outputs": [],
   "source": [
    "def multiply_plus_three(x):\n",
    "    return x*(x+3)"
   ]
  },
  {
   "cell_type": "markdown",
   "metadata": {},
   "source": [
    "__4. opgave:__  \n",
    "Brug din nye funktion på alle tal i listen fra opgave 2. Anvend en `for` loop til at gennemgå alle elementer i listen og skriv løbende de udregnede værdier ind i en ny liste med `append`. Udskriv den nye liste."
   ]
  },
  {
   "cell_type": "code",
   "execution_count": 18,
   "metadata": {},
   "outputs": [
    {
     "name": "stdout",
     "output_type": "stream",
     "text": [
      "[3190, 3304, 3420, 3538, 3658, 3780, 3904, 4030, 4158, 4288, 4420, 4554, 4690, 4828, 4968, 5110, 5254, 5400, 5548, 5698, 5850, 6004, 6160, 6318, 6478]\n"
     ]
    }
   ],
   "source": [
    "list3 = []\n",
    "\n",
    "for num in list2:\n",
    "    list3.append(multiply_plus_three(num))\n",
    "\n",
    "print(list3)"
   ]
  },
  {
   "cell_type": "markdown",
   "metadata": {},
   "source": [
    "__5. opgave:__  \n",
    "Gør det samme som i opgave 4, men ved hjælp af list comprehension."
   ]
  },
  {
   "cell_type": "code",
   "execution_count": 19,
   "metadata": {},
   "outputs": [
    {
     "name": "stdout",
     "output_type": "stream",
     "text": [
      "[3190, 3304, 3420, 3538, 3658, 3780, 3904, 4030, 4158, 4288, 4420, 4554, 4690, 4828, 4968, 5110, 5254, 5400, 5548, 5698, 5850, 6004, 6160, 6318, 6478]\n"
     ]
    }
   ],
   "source": [
    "list4 = [multiply_plus_three(num) for num in list2]\n",
    "\n",
    "print(list4)"
   ]
  },
  {
   "cell_type": "markdown",
   "metadata": {},
   "source": [
    "### ØVELSER: DATA ANALYSE"
   ]
  },
  {
   "cell_type": "markdown",
   "metadata": {},
   "source": [
    "__1. opgave:__  \n",
    "Importer de python biblioteker, som vil blive brugt i opgaverne. Der skal arbejdes med numpy arrays, visualiseringer og lineær regression."
   ]
  },
  {
   "cell_type": "code",
   "execution_count": 8,
   "metadata": {},
   "outputs": [],
   "source": [
    "import pandas as pd\n",
    "import numpy as np\n",
    "import matplotlib.pyplot as plt\n",
    "\n",
    "from scipy import stats"
   ]
  },
  {
   "cell_type": "markdown",
   "metadata": {},
   "source": [
    "__2. opgave:__  \n",
    "Indlæs 4 forskellige datasæt med x-værdier og y-værdier fra følgende filer: **Data1.tsv**, **Data2.tsv**, **Data3.tsv**, **Data4.tsv**.  \n",
    "Sørg for at værdierne bliver gemt som numpy arrays.  "
   ]
  },
  {
   "cell_type": "code",
   "execution_count": 14,
   "metadata": {},
   "outputs": [],
   "source": [
    "FILES = ['Data1.tsv', 'Data2.tsv', 'Data3.tsv', 'Data4.tsv']\n",
    "\n",
    "datasets = [pd.read_csv('Data/' + file, sep='\\t', header=None).values for file in FILES]"
   ]
  },
  {
   "cell_type": "markdown",
   "metadata": {},
   "source": [
    "__3. opgave:__  \n",
    "Udregn middelværdien og variansen for hver variabel i hvert datasæt. Udskriv de udregnede værdier, så de kan sammenlignes på tværs af datasæt (for at få et bedre overblik kan man bruge string formatting til kun at printe 2 decimaler). Brug numpy indbyggede metoder til at beregne middelværdier og varianser."
   ]
  },
  {
   "cell_type": "code",
   "execution_count": 16,
   "metadata": {},
   "outputs": [
    {
     "name": "stdout",
     "output_type": "stream",
     "text": [
      "Mean values for data set 1:\n",
      "      9.00\n",
      "      7.50\n",
      "Mean values for data set 2:\n",
      "      9.00\n",
      "      7.50\n",
      "Mean values for data set 3:\n",
      "      9.00\n",
      "      7.50\n",
      "Mean values for data set 4:\n",
      "      9.00\n",
      "      7.50\n"
     ]
    }
   ],
   "source": [
    "x_means = []\n",
    "y_means = []\n",
    "\n",
    "for idx,data in enumerate(datasets):\n",
    "    x_means.append(np.mean(data,axis=0)[0])\n",
    "    y_means.append(np.mean(data,axis=0)[1])\n",
    "    \n",
    "    print('Mean values for data set %d:' % (idx+1))\n",
    "    print('{:10.2f}'.format(x_means[idx]))\n",
    "    print('{:10.2f}'.format(y_means[idx]))"
   ]
  },
  {
   "cell_type": "code",
   "execution_count": 17,
   "metadata": {},
   "outputs": [
    {
     "name": "stdout",
     "output_type": "stream",
     "text": [
      "Variances for data set 1:\n",
      "     10.00\n",
      "      3.75\n",
      "Variances for data set 2:\n",
      "     10.00\n",
      "      3.75\n",
      "Variances for data set 3:\n",
      "     10.00\n",
      "      3.75\n",
      "Variances for data set 4:\n",
      "     10.00\n",
      "      3.75\n"
     ]
    }
   ],
   "source": [
    "x_var = []\n",
    "y_var = []\n",
    "\n",
    "for idx,data in enumerate(datasets):\n",
    "    x_var.append(np.var(data,axis=0)[0])\n",
    "    y_var.append(np.var(data,axis=0)[1])\n",
    "    \n",
    "    print('Variances for data set %d:' % (idx+1))\n",
    "    print('{:10.2f}'.format(x_var[idx]))\n",
    "    print('{:10.2f}'.format(y_var[idx]))"
   ]
  },
  {
   "cell_type": "markdown",
   "metadata": {},
   "source": [
    "__4. opgave:__  \n",
    "Brug numpy til at beregne Pearson correlation mellem x- og y-værdierne i hvert datasæt. Udskriv de udregnede værdier, så de kan sammenlignes på tværs af datasæt."
   ]
  },
  {
   "cell_type": "code",
   "execution_count": 18,
   "metadata": {},
   "outputs": [
    {
     "name": "stdout",
     "output_type": "stream",
     "text": [
      "Pearson correlation for data set 1:\n",
      "      0.82\n",
      "Pearson correlation for data set 2:\n",
      "      0.82\n",
      "Pearson correlation for data set 3:\n",
      "      0.82\n",
      "Pearson correlation for data set 4:\n",
      "      0.82\n"
     ]
    }
   ],
   "source": [
    "pear_cor = []\n",
    "\n",
    "for idx,data in enumerate(datasets):\n",
    "    pear_cor.append(np.corrcoef(data[:,0], data[:,1])[0, 1])\n",
    "    \n",
    "    print('Pearson correlation for data set %d:' % (idx+1))\n",
    "    print('{:10.2f}'.format(pear_cor[idx]))"
   ]
  },
  {
   "cell_type": "markdown",
   "metadata": {},
   "source": [
    "__5. opgave:__  \n",
    "I denne opgave skal man lave en lineær regression på hvert datasæt, der skal altså fittes en ret linje igennem hvert datasæt, $f(x)=a·x+b$. Brug **stats.linregress(x, y)** fra scipy biblioteket. Udskriv $a$- og $b$-værdierne, så de kan sammenlignes på tværs af datasæt."
   ]
  },
  {
   "cell_type": "code",
   "execution_count": 19,
   "metadata": {},
   "outputs": [
    {
     "name": "stdout",
     "output_type": "stream",
     "text": [
      "Slopes and intercepts for data set 1\n",
      "\ta = 0.50\n",
      "\tb = 3.00\n",
      "Slopes and intercepts for data set 2\n",
      "\ta = 0.50\n",
      "\tb = 3.00\n",
      "Slopes and intercepts for data set 3\n",
      "\ta = 0.50\n",
      "\tb = 3.00\n",
      "Slopes and intercepts for data set 4\n",
      "\ta = 0.50\n",
      "\tb = 3.00\n"
     ]
    }
   ],
   "source": [
    "slopes = []\n",
    "intceps = []\n",
    "\n",
    "for idx,data in enumerate(datasets):\n",
    "    slope, intercept, r_value, p_value, std_err = stats.linregress(data[:,0], data[:,1])\n",
    "    slopes.append(slope)\n",
    "    intceps.append(intercept)\n",
    "    \n",
    "    print('Slopes and intercepts for data set %d' % (idx+1))\n",
    "    print('\\ta = {:1.2f}'.format(slopes[idx]))\n",
    "    print('\\tb = {:1.2f}'.format(intceps[idx]))"
   ]
  },
  {
   "cell_type": "markdown",
   "metadata": {},
   "source": [
    "__6. opgave:__  \n",
    "Lav et scatterplot over punkterne i hvert datasæt (dvs. lav 4 scatter plots). Brug det samme interval på x- og y-akserne. Inkluder gerne den rette linje fra de lineære regressioner i forrige opgave."
   ]
  },
  {
   "cell_type": "code",
   "execution_count": 20,
   "metadata": {},
   "outputs": [
    {
     "data": {
      "image/png": "[encoded data removed]",
      "text/plain": [
       "<Figure size 1296x720 with 4 Axes>"
      ]
     },
     "metadata": {},
     "output_type": "display_data"
    }
   ],
   "source": [
    "# Plot degree distributions with linear axis and log axis\n",
    "plt.figure(figsize=(18, 10))\n",
    "\n",
    "for idx,data in enumerate(datasets):\n",
    "    regression_input = range(3,19)\n",
    "    regression_output = [slopes[idx] * i + intceps[idx] for i in regression_input]\n",
    "    plt.subplot(2, 2, idx+1)\n",
    "    plt.plot(data[:,0], data[:,1], 'b.', regression_input, regression_output, 'r-')\n",
    "    plt.axis([2, 20, 0, 15])\n",
    "    plt.xlabel('x')\n",
    "    plt.ylabel('y')\n",
    "    plt.title('Data set %d' % (idx+1))"
   ]
  },
  {
   "cell_type": "markdown",
   "metadata": {},
   "source": [
    "__7. opgave (avanceret):__  \n",
    "I denne opgave skal man:  \n",
    "* Indlæs datasættet som indeholder personers cpr-nummer, vægt og højde i et pandas dataframe. Samme datasæt blev brugt i præsentationen og kan findes i filen: **df_personal_characteristic.csv**\n",
    "* Tilføj en ny kolonne der indeholder køn.\n",
    "* Tilføj en ny kolonne der indeholder BMI. $$BMI = \\frac{vægt}{{højde}^2}$$\n",
    "* Afprøv forskellige klassifikationsmodeller fra scikit-learn til at prædiktere køn ud fra vægt og højde. Start med *Support Vector Machine*.\n",
    "* Mål modellernes accuracy og visualiser det med matplotlib."
   ]
  },
  {
   "cell_type": "code",
   "execution_count": null,
   "metadata": {},
   "outputs": [],
   "source": []
  }
 ],
 "metadata": {
  "kernelspec": {
   "display_name": "Python 3",
   "language": "python",
   "name": "python3"
  },
  "language_info": {
   "codemirror_mode": {
    "name": "ipython",
    "version": 3
   },
   "file_extension": ".py",
   "mimetype": "text/x-python",
   "name": "python",
   "nbconvert_exporter": "python",
   "pygments_lexer": "ipython3",
   "version": "3.6.5"
  }
 },
 "nbformat": 4,
 "nbformat_minor": 2
}
