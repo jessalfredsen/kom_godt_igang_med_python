{
 "cells": [
  {
   "cell_type": "markdown",
   "metadata": {},
   "source": [
    "### ØVELSER: DATA ANALYSE"
   ]
  },
  {
   "cell_type": "markdown",
   "metadata": {},
   "source": [
    "__1. opgave:__  \n",
    "Importer de python biblioteker, som vil blive brugt i opgaverne. Der skal arbejdes med numpy arrays, visualiseringer og lineær regression."
   ]
  },
  {
   "cell_type": "code",
   "execution_count": null,
   "metadata": {},
   "outputs": [],
   "source": []
  },
  {
   "cell_type": "markdown",
   "metadata": {},
   "source": [
    "__2. opgave:__  \n",
    "Indlæs 4 forskellige datasæt med x-værdier og y-værdier fra følgende filer: **Data1.tsv**, **Data2.tsv**, **Data3.tsv**, **Data4.tsv**.  \n",
    "Sørg for at værdierne bliver gemt som numpy arrays.  "
   ]
  },
  {
   "cell_type": "code",
   "execution_count": null,
   "metadata": {},
   "outputs": [],
   "source": []
  },
  {
   "cell_type": "markdown",
   "metadata": {},
   "source": [
    "__3. opgave:__  \n",
    "Udregn middelværdien og variansen for hver variabel i hvert datasæt. Udskriv de udregnede værdier, så de kan sammenlignes på tværs af datasæt (for at få et bedre overblik kan man bruge string formatting til kun at printe 2 decimaler). Brug numpy indbyggede metoder til at beregne middelværdier og varianser."
   ]
  },
  {
   "cell_type": "code",
   "execution_count": null,
   "metadata": {},
   "outputs": [],
   "source": []
  },
  {
   "cell_type": "markdown",
   "metadata": {},
   "source": [
    "__4. opgave:__  \n",
    "Brug numpy til at beregne Pearson correlation mellem x- og y-værdierne i hvert datasæt. Udskriv de udregnede værdier, så de kan sammenlignes på tværs af datasæt."
   ]
  },
  {
   "cell_type": "code",
   "execution_count": null,
   "metadata": {},
   "outputs": [],
   "source": []
  },
  {
   "cell_type": "markdown",
   "metadata": {},
   "source": [
    "__5. opgave:__  \n",
    "I denne opgave skal man lave en lineær regression på hvert datasæt, der skal altså fittes en ret linje igennem hvert datasæt, $f(x)=a·x+b$. Brug **stats.linregress(x, y)** fra scipy biblioteket. Udskriv $a$- og $b$-værdierne, så de kan sammenlignes på tværs af datasæt."
   ]
  },
  {
   "cell_type": "code",
   "execution_count": null,
   "metadata": {},
   "outputs": [],
   "source": []
  },
  {
   "cell_type": "markdown",
   "metadata": {},
   "source": [
    "__6. opgave:__  \n",
    "Lav et scatterplot over punkterne i hvert datasæt. Brug det samme interval på x- og y-akserne. Inkluder gerne den rette linje fra de lineære regressioner i forige opgave."
   ]
  },
  {
   "cell_type": "code",
   "execution_count": null,
   "metadata": {},
   "outputs": [],
   "source": []
  }
 ],
 "metadata": {
  "kernelspec": {
   "display_name": "Python 3",
   "language": "python",
   "name": "python3"
  },
  "language_info": {
   "codemirror_mode": {
    "name": "ipython",
    "version": 3
   },
   "file_extension": ".py",
   "mimetype": "text/x-python",
   "name": "python",
   "nbconvert_exporter": "python",
   "pygments_lexer": "ipython3",
   "version": "3.6.5"
  }
 },
 "nbformat": 4,
 "nbformat_minor": 2
}
