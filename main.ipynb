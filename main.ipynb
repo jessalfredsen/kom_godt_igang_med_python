{
 "cells": [
  {
   "cell_type": "markdown",
   "metadata": {},
   "source": [
    "### INTRODUKTION (15 min, 17:00 - 17:15)"
   ]
  },
  {
   "cell_type": "code",
   "execution_count": null,
   "metadata": {},
   "outputs": [],
   "source": []
  },
  {
   "cell_type": "markdown",
   "metadata": {},
   "source": [
    "### ALT DET BASALE (30 min, 17:15 - 17:45)"
   ]
  },
  {
   "cell_type": "markdown",
   "metadata": {},
   "source": [
    "##### Python Scripts / IPython Notebooks"
   ]
  },
  {
   "cell_type": "code",
   "execution_count": null,
   "metadata": {},
   "outputs": [],
   "source": []
  },
  {
   "cell_type": "code",
   "execution_count": 1,
   "metadata": {},
   "outputs": [],
   "source": [
    "# COMMENTS COMMENTS COMMENTS...\n",
    "\n",
    "# ALWAYS NICE TO WRITE COMMENTS"
   ]
  },
  {
   "cell_type": "code",
   "execution_count": 2,
   "metadata": {},
   "outputs": [
    {
     "name": "stdout",
     "output_type": "stream",
     "text": [
      "\n",
      "A picture of a dog...\n",
      " 0____\n",
      "  ||||\n",
      "\n"
     ]
    }
   ],
   "source": [
    "print('''\n",
    "A picture of a dog...\n",
    " 0____\n",
    "  ||||\n",
    "''')"
   ]
  },
  {
   "cell_type": "markdown",
   "metadata": {},
   "source": [
    "##### Assignment / lister"
   ]
  },
  {
   "cell_type": "code",
   "execution_count": 3,
   "metadata": {},
   "outputs": [],
   "source": [
    "a = 42\n",
    "\n",
    "b = [1, 2, 3, 4 , 5, 5]\n",
    "\n",
    "c = range(3)\n",
    "\n",
    "d = 'PROSA'\n",
    "\n",
    "e = ['Peter', 'Rosa', 'Oscar', 'Sebastian', 'Adam']\n",
    "\n",
    "f = ['D', 4, 'M', e]"
   ]
  },
  {
   "cell_type": "code",
   "execution_count": 4,
   "metadata": {},
   "outputs": [
    {
     "name": "stdout",
     "output_type": "stream",
     "text": [
      "42\n",
      "range(0, 3)\n",
      "PROSA\n",
      "['D', 4, 'M', ['Peter', 'Rosa', 'Oscar', 'Sebastian', 'Adam']]\n"
     ]
    }
   ],
   "source": [
    "print(a)\n",
    "print(c)\n",
    "print(d)\n",
    "print(f)"
   ]
  },
  {
   "cell_type": "code",
   "execution_count": 5,
   "metadata": {},
   "outputs": [
    {
     "name": "stdout",
     "output_type": "stream",
     "text": [
      "Peter\n",
      "Rosa\n",
      "Oscar\n"
     ]
    }
   ],
   "source": [
    "for idx in c:\n",
    "    print(e[idx])"
   ]
  },
  {
   "cell_type": "code",
   "execution_count": 6,
   "metadata": {},
   "outputs": [],
   "source": [
    "f[1] = 40"
   ]
  },
  {
   "cell_type": "code",
   "execution_count": 7,
   "metadata": {},
   "outputs": [
    {
     "name": "stdout",
     "output_type": "stream",
     "text": [
      "['D', 40, 'M', ['Peter', 'Rosa', 'Oscar', 'Sebastian', 'Adam']]\n"
     ]
    }
   ],
   "source": [
    "print(f)"
   ]
  },
  {
   "cell_type": "markdown",
   "metadata": {},
   "source": [
    "##### Udvælge elementer i lister. Indeks og slice."
   ]
  },
  {
   "cell_type": "code",
   "execution_count": 8,
   "metadata": {},
   "outputs": [
    {
     "name": "stdout",
     "output_type": "stream",
     "text": [
      "2\n",
      "5\n",
      "[3, 4]\n",
      "[4, 5]\n",
      "['Oscar', 'Sebastian']\n"
     ]
    }
   ],
   "source": [
    "print(b[1])\n",
    "\n",
    "print(b[-2])\n",
    "\n",
    "print(b[2:4])\n",
    "\n",
    "print(b[-3:-1])\n",
    "\n",
    "print(f[3][2:4])"
   ]
  },
  {
   "cell_type": "markdown",
   "metadata": {},
   "source": [
    "##### List comprehension"
   ]
  },
  {
   "cell_type": "code",
   "execution_count": 9,
   "metadata": {},
   "outputs": [],
   "source": [
    "x = [number**2 for number in range(21)]"
   ]
  },
  {
   "cell_type": "code",
   "execution_count": 10,
   "metadata": {},
   "outputs": [
    {
     "name": "stdout",
     "output_type": "stream",
     "text": [
      "[0, 1, 4, 9, 16, 25, 36, 49, 64, 81, 100, 121, 144, 169, 196, 225, 256, 289, 324, 361, 400]\n"
     ]
    }
   ],
   "source": [
    "print(x)"
   ]
  },
  {
   "cell_type": "code",
   "execution_count": 11,
   "metadata": {},
   "outputs": [],
   "source": [
    "y = [number for number in x if number % 2 == 0]"
   ]
  },
  {
   "cell_type": "code",
   "execution_count": 12,
   "metadata": {},
   "outputs": [
    {
     "name": "stdout",
     "output_type": "stream",
     "text": [
      "[0, 4, 16, 36, 64, 100, 144, 196, 256, 324, 400]\n"
     ]
    }
   ],
   "source": [
    "print(y)"
   ]
  },
  {
   "cell_type": "code",
   "execution_count": 13,
   "metadata": {},
   "outputs": [],
   "source": [
    "first_letters = [word[0] for word in e]"
   ]
  },
  {
   "cell_type": "code",
   "execution_count": 14,
   "metadata": {},
   "outputs": [
    {
     "name": "stdout",
     "output_type": "stream",
     "text": [
      "['P', 'R', 'O', 'S', 'A']\n"
     ]
    }
   ],
   "source": [
    "print(first_letters)"
   ]
  },
  {
   "cell_type": "markdown",
   "metadata": {},
   "source": [
    "##### Dictionaries"
   ]
  },
  {
   "cell_type": "code",
   "execution_count": 15,
   "metadata": {},
   "outputs": [],
   "source": [
    "dic = {\n",
    "    'integer': 42,\n",
    "    'float': 23.23,\n",
    "    'string': 'Python rules!',\n",
    "    'list': ['nested', 'list'],\n",
    "    'dictionary': {'inception': 'dictionary'}\n",
    "}"
   ]
  },
  {
   "cell_type": "code",
   "execution_count": 16,
   "metadata": {},
   "outputs": [
    {
     "name": "stdout",
     "output_type": "stream",
     "text": [
      "{'integer': 42, 'float': 23.23, 'string': 'Python rules!', 'list': ['nested', 'list'], 'dictionary': {'inception': 'dictionary'}}\n"
     ]
    }
   ],
   "source": [
    "print(dic)"
   ]
  },
  {
   "cell_type": "code",
   "execution_count": 17,
   "metadata": {},
   "outputs": [
    {
     "name": "stdout",
     "output_type": "stream",
     "text": [
      "23.23\n",
      "{'inception': 'dictionary'}\n"
     ]
    }
   ],
   "source": [
    "print(dic['float'])\n",
    "print(dic['dictionary'])"
   ]
  },
  {
   "cell_type": "code",
   "execution_count": 18,
   "metadata": {},
   "outputs": [],
   "source": [
    "dic['float'] = 12.34"
   ]
  },
  {
   "cell_type": "code",
   "execution_count": 19,
   "metadata": {},
   "outputs": [
    {
     "name": "stdout",
     "output_type": "stream",
     "text": [
      "42\n",
      "12.34\n",
      "Python rules!\n",
      "['nested', 'list']\n",
      "{'inception': 'dictionary'}\n"
     ]
    }
   ],
   "source": [
    "for key in dic.keys():\n",
    "    print(dic[key])"
   ]
  },
  {
   "cell_type": "code",
   "execution_count": 20,
   "metadata": {},
   "outputs": [
    {
     "name": "stdout",
     "output_type": "stream",
     "text": [
      "42\n",
      "12.34\n",
      "Python rules!\n",
      "['nested', 'list']\n",
      "{'inception': 'dictionary'}\n"
     ]
    }
   ],
   "source": [
    "for val in dic.values():\n",
    "    print(val)"
   ]
  },
  {
   "cell_type": "markdown",
   "metadata": {},
   "source": [
    "##### Sets"
   ]
  },
  {
   "cell_type": "code",
   "execution_count": 21,
   "metadata": {},
   "outputs": [
    {
     "name": "stdout",
     "output_type": "stream",
     "text": [
      "{'Jack', 'John', 'Janice', 'Jane'}\n"
     ]
    }
   ],
   "source": [
    "names1 = set(['John', 'Jane', 'Jack', 'Janice'])\n",
    "\n",
    "print(names1)"
   ]
  },
  {
   "cell_type": "code",
   "execution_count": 22,
   "metadata": {},
   "outputs": [
    {
     "name": "stdout",
     "output_type": "stream",
     "text": [
      "{'Jack', 'Tobias', 'John', 'Janice', 'Jane'}\n"
     ]
    }
   ],
   "source": [
    "names1.add('Tobias')\n",
    "\n",
    "print(names1)"
   ]
  },
  {
   "cell_type": "code",
   "execution_count": 23,
   "metadata": {},
   "outputs": [
    {
     "name": "stdout",
     "output_type": "stream",
     "text": [
      "{'Jack', 'Tobias', 'John', 'Janice', 'Jane'}\n"
     ]
    }
   ],
   "source": [
    "names1.add('Tobias')\n",
    "\n",
    "print(names1)"
   ]
  },
  {
   "cell_type": "code",
   "execution_count": 24,
   "metadata": {},
   "outputs": [],
   "source": [
    "names2 = set(['Anders', 'Line', 'Martin', 'Amalie', 'John', 'Jane'])"
   ]
  },
  {
   "cell_type": "code",
   "execution_count": 25,
   "metadata": {},
   "outputs": [
    {
     "name": "stdout",
     "output_type": "stream",
     "text": [
      "{'Jack', 'Anders', 'Line', 'Tobias', 'Martin', 'Amalie', 'John', 'Janice', 'Jane'}\n",
      "{'John', 'Jane'}\n"
     ]
    }
   ],
   "source": [
    "print(names1.union(names2))\n",
    "\n",
    "print(names1.intersection(names2))"
   ]
  },
  {
   "cell_type": "markdown",
   "metadata": {},
   "source": [
    "##### Funktioner"
   ]
  },
  {
   "cell_type": "code",
   "execution_count": 26,
   "metadata": {},
   "outputs": [
    {
     "name": "stdout",
     "output_type": "stream",
     "text": [
      "11\n",
      "1540\n",
      "400\n"
     ]
    }
   ],
   "source": [
    "print(len(y))\n",
    "print(sum(y))\n",
    "print(max(y))"
   ]
  },
  {
   "cell_type": "code",
   "execution_count": 27,
   "metadata": {},
   "outputs": [
    {
     "name": "stdout",
     "output_type": "stream",
     "text": [
      "12.35\n"
     ]
    }
   ],
   "source": [
    "z = 12.3456789\n",
    "\n",
    "print(round(z, 2))"
   ]
  },
  {
   "cell_type": "code",
   "execution_count": 28,
   "metadata": {},
   "outputs": [],
   "source": [
    "for i in range(10):\n",
    "    if i > 5:\n",
    "        break"
   ]
  },
  {
   "cell_type": "code",
   "execution_count": 29,
   "metadata": {},
   "outputs": [
    {
     "data": {
      "text/plain": [
       "['Jack', 'Tobias', 'John', 'Janice', 'Jane']"
      ]
     },
     "execution_count": 29,
     "metadata": {},
     "output_type": "execute_result"
    }
   ],
   "source": [
    "list(names1)"
   ]
  },
  {
   "cell_type": "markdown",
   "metadata": {},
   "source": [
    "##### Funktioner vi selv laver"
   ]
  },
  {
   "cell_type": "code",
   "execution_count": 30,
   "metadata": {},
   "outputs": [],
   "source": [
    "def broken_calculator_addition(x, y):\n",
    "    return x+y+2\n",
    "\n",
    "def print_result(x, y):\n",
    "    res = broken_calculator_addition(x, y)\n",
    "    s = 'When you add %d and %d, you get %d' % (x, y, res)\n",
    "    print(s)"
   ]
  },
  {
   "cell_type": "code",
   "execution_count": 31,
   "metadata": {},
   "outputs": [
    {
     "name": "stdout",
     "output_type": "stream",
     "text": [
      "When you add 25 and 15, you get 42\n"
     ]
    }
   ],
   "source": [
    "print_result(25, 15)"
   ]
  },
  {
   "cell_type": "markdown",
   "metadata": {},
   "source": [
    "##### Classes"
   ]
  },
  {
   "cell_type": "code",
   "execution_count": 32,
   "metadata": {},
   "outputs": [],
   "source": [
    "class Person:\n",
    "    \n",
    "    def __init__(self, first_name, last_name, age):\n",
    "        self.first_name = first_name\n",
    "        self.last_name = last_name\n",
    "        self.age = age\n",
    "        self.skills = []\n",
    "        self.workplace = None\n",
    "    \n",
    "    def add_skill(self, skill):\n",
    "        self.skills.append(skill)\n",
    "        \n",
    "    def set_workplace(self, workplace):\n",
    "        self.workplace = workplace"
   ]
  },
  {
   "cell_type": "code",
   "execution_count": 33,
   "metadata": {},
   "outputs": [
    {
     "name": "stdout",
     "output_type": "stream",
     "text": [
      "Monty\n",
      "None\n"
     ]
    }
   ],
   "source": [
    "person1 = Person(first_name='Monty', last_name='Python', age=24)\n",
    "\n",
    "print(person1.first_name)\n",
    "print(person1.workplace)"
   ]
  },
  {
   "cell_type": "code",
   "execution_count": 34,
   "metadata": {},
   "outputs": [
    {
     "name": "stdout",
     "output_type": "stream",
     "text": [
      "Prosa\n"
     ]
    }
   ],
   "source": [
    "person1.set_workplace('Prosa')\n",
    "person1.add_skill('Knitting')\n",
    "\n",
    "print(person1.workplace)"
   ]
  },
  {
   "cell_type": "code",
   "execution_count": 35,
   "metadata": {},
   "outputs": [],
   "source": [
    "person2 = Person(first_name='Jens', last_name='Jensen', age=49)\n",
    "person3 = Person(first_name='Henning', last_name='Havørn', age=35)\n",
    "\n",
    "persons = [person1, person2, person3]\n",
    "\n",
    "for person in persons:\n",
    "    person.add_skill('Python programming')"
   ]
  },
  {
   "cell_type": "code",
   "execution_count": 36,
   "metadata": {},
   "outputs": [
    {
     "name": "stdout",
     "output_type": "stream",
     "text": [
      "['Knitting', 'Python programming']\n",
      "['Python programming']\n",
      "['Python programming']\n"
     ]
    }
   ],
   "source": [
    "print(person1.skills)\n",
    "print(person2.skills)\n",
    "print(person3.skills)"
   ]
  },
  {
   "cell_type": "markdown",
   "metadata": {},
   "source": [
    "##### Bruge pakker fra Python community / Imports"
   ]
  },
  {
   "cell_type": "code",
   "execution_count": 37,
   "metadata": {},
   "outputs": [
    {
     "name": "stdout",
     "output_type": "stream",
     "text": [
      "2018-10-29\n"
     ]
    }
   ],
   "source": [
    "import datetime\n",
    "\n",
    "print(datetime.date.today())"
   ]
  },
  {
   "cell_type": "code",
   "execution_count": 38,
   "metadata": {},
   "outputs": [
    {
     "name": "stdout",
     "output_type": "stream",
     "text": [
      "2018-10-29\n"
     ]
    }
   ],
   "source": [
    "import datetime as dt\n",
    "\n",
    "print(dt.date.today())"
   ]
  },
  {
   "cell_type": "code",
   "execution_count": 39,
   "metadata": {},
   "outputs": [
    {
     "name": "stdout",
     "output_type": "stream",
     "text": [
      "2018-10-29\n"
     ]
    }
   ],
   "source": [
    "from datetime import date\n",
    "\n",
    "print(date.today())"
   ]
  },
  {
   "cell_type": "code",
   "execution_count": 40,
   "metadata": {},
   "outputs": [
    {
     "name": "stdout",
     "output_type": "stream",
     "text": [
      "Hello, PROSA!\n"
     ]
    }
   ],
   "source": [
    "import hello\n",
    "\n",
    "hello.hello_world()"
   ]
  },
  {
   "cell_type": "code",
   "execution_count": 41,
   "metadata": {},
   "outputs": [
    {
     "name": "stdout",
     "output_type": "stream",
     "text": [
      "\u001b[1m\u001b[40m\u001b[32m.___________. __    __   _______     _______   ______     _______           \n",
      "|           ||  |  |  | |   ____|   |       \\ /  __  \\   /  _____|          \n",
      "`---|  |----`|  |__|  | |  |__      |  .--.  |  |  |  | |  |  __            \n",
      "    |  |     |   __   | |   __|     |  |  |  |  |  |  | |  | |_ |           \n",
      "    |  |     |  |  |  | |  |____    |  '--'  |  `--'  | |  |__| |  __ __ __ \n",
      "    |__|     |__|  |__| |_______|   |_______/ \\______/   \\______| (__|__|__)\n",
      "                                                                            \n",
      "                    ___                                                     \n",
      "                   / _ \\                                                    \n",
      "                  | | | |                                                   \n",
      "                  | | | |                                                   \n",
      "                  | |_| |                                                   \n",
      "                   \\___/   ______ ______ ______ ______                      \n",
      "                          |______|______|______|______|                     \n",
      "                            __      __      __      __                       \n",
      "                           |  |    |  |    |  |    |  |                      \n",
      "                           |  |    |  |    |  |    |  |                      \n",
      "                           |  |    |  |    |  |    |  |                      \n",
      "                           |  |    |  |    |  |    |  |                      \n",
      "                           |  |    |  |    |  |    |  |                      \n",
      "                           |__|    |__|    |__|    |__|                      \n",
      "\u001b[0m\n"
     ]
    }
   ],
   "source": [
    "from termcolor import cprint \n",
    "from pyfiglet import figlet_format\n",
    "\n",
    "the_dog = '''the dog...\n",
    "      0____       \n",
    "         | | | |       '''\n",
    "cprint(figlet_format(the_dog, font='starwars'), 'green', 'on_grey', attrs=['bold'])"
   ]
  },
  {
   "cell_type": "code",
   "execution_count": 42,
   "metadata": {},
   "outputs": [
    {
     "ename": "SyntaxError",
     "evalue": "not a chance (<ipython-input-42-6d5c5b2f0daf>, line 1)",
     "output_type": "error",
     "traceback": [
      "\u001b[0;36m  File \u001b[0;32m\"<ipython-input-42-6d5c5b2f0daf>\"\u001b[0;36m, line \u001b[0;32m1\u001b[0m\n\u001b[0;31m    from __future__ import braces\u001b[0m\n\u001b[0m                                 ^\u001b[0m\n\u001b[0;31mSyntaxError\u001b[0m\u001b[0;31m:\u001b[0m not a chance\n"
     ]
    }
   ],
   "source": [
    "from __future__ import braces"
   ]
  },
  {
   "cell_type": "markdown",
   "metadata": {},
   "source": [
    "##### Dataframes med Pandas"
   ]
  },
  {
   "cell_type": "code",
   "execution_count": 43,
   "metadata": {},
   "outputs": [
    {
     "data": {
      "text/html": [
       "<div>\n",
       "<style scoped>\n",
       "    .dataframe tbody tr th:only-of-type {\n",
       "        vertical-align: middle;\n",
       "    }\n",
       "\n",
       "    .dataframe tbody tr th {\n",
       "        vertical-align: top;\n",
       "    }\n",
       "\n",
       "    .dataframe thead th {\n",
       "        text-align: right;\n",
       "    }\n",
       "</style>\n",
       "<table border=\"1\" class=\"dataframe\">\n",
       "  <thead>\n",
       "    <tr style=\"text-align: right;\">\n",
       "      <th></th>\n",
       "      <th>Name</th>\n",
       "      <th>Age</th>\n",
       "    </tr>\n",
       "  </thead>\n",
       "  <tbody>\n",
       "    <tr>\n",
       "      <th>0</th>\n",
       "      <td>Monty Python</td>\n",
       "      <td>24</td>\n",
       "    </tr>\n",
       "    <tr>\n",
       "      <th>1</th>\n",
       "      <td>Jens Jensen</td>\n",
       "      <td>49</td>\n",
       "    </tr>\n",
       "    <tr>\n",
       "      <th>2</th>\n",
       "      <td>Henning Havørn</td>\n",
       "      <td>35</td>\n",
       "    </tr>\n",
       "  </tbody>\n",
       "</table>\n",
       "</div>"
      ],
      "text/plain": [
       "             Name  Age\n",
       "0    Monty Python   24\n",
       "1     Jens Jensen   49\n",
       "2  Henning Havørn   35"
      ]
     },
     "execution_count": 43,
     "metadata": {},
     "output_type": "execute_result"
    }
   ],
   "source": [
    "import pandas as pd\n",
    "\n",
    "temp = {'Name': ['Monty Python', 'Jens Jensen', 'Henning Havørn'], 'Age': [24, 49, 35]}\n",
    "\n",
    "df1 = pd.DataFrame(data=temp)\n",
    "\n",
    "df1"
   ]
  },
  {
   "cell_type": "code",
   "execution_count": 44,
   "metadata": {},
   "outputs": [
    {
     "data": {
      "text/plain": [
       "0      Monty Python\n",
       "1       Jens Jensen\n",
       "2    Henning Havørn\n",
       "Name: Name, dtype: object"
      ]
     },
     "execution_count": 44,
     "metadata": {},
     "output_type": "execute_result"
    }
   ],
   "source": [
    "df1['Name']"
   ]
  },
  {
   "cell_type": "code",
   "execution_count": 45,
   "metadata": {},
   "outputs": [
    {
     "data": {
      "text/html": [
       "<div>\n",
       "<style scoped>\n",
       "    .dataframe tbody tr th:only-of-type {\n",
       "        vertical-align: middle;\n",
       "    }\n",
       "\n",
       "    .dataframe tbody tr th {\n",
       "        vertical-align: top;\n",
       "    }\n",
       "\n",
       "    .dataframe thead th {\n",
       "        text-align: right;\n",
       "    }\n",
       "</style>\n",
       "<table border=\"1\" class=\"dataframe\">\n",
       "  <thead>\n",
       "    <tr style=\"text-align: right;\">\n",
       "      <th></th>\n",
       "      <th>Name</th>\n",
       "      <th>Age</th>\n",
       "    </tr>\n",
       "  </thead>\n",
       "  <tbody>\n",
       "    <tr>\n",
       "      <th>0</th>\n",
       "      <td>Monty Python</td>\n",
       "      <td>24</td>\n",
       "    </tr>\n",
       "    <tr>\n",
       "      <th>1</th>\n",
       "      <td>Jens Jensen</td>\n",
       "      <td>49</td>\n",
       "    </tr>\n",
       "  </tbody>\n",
       "</table>\n",
       "</div>"
      ],
      "text/plain": [
       "           Name  Age\n",
       "0  Monty Python   24\n",
       "1   Jens Jensen   49"
      ]
     },
     "execution_count": 45,
     "metadata": {},
     "output_type": "execute_result"
    }
   ],
   "source": [
    "df1.iloc[0:2]"
   ]
  },
  {
   "cell_type": "code",
   "execution_count": 46,
   "metadata": {},
   "outputs": [
    {
     "data": {
      "text/html": [
       "<div>\n",
       "<style scoped>\n",
       "    .dataframe tbody tr th:only-of-type {\n",
       "        vertical-align: middle;\n",
       "    }\n",
       "\n",
       "    .dataframe tbody tr th {\n",
       "        vertical-align: top;\n",
       "    }\n",
       "\n",
       "    .dataframe thead th {\n",
       "        text-align: right;\n",
       "    }\n",
       "</style>\n",
       "<table border=\"1\" class=\"dataframe\">\n",
       "  <thead>\n",
       "    <tr style=\"text-align: right;\">\n",
       "      <th></th>\n",
       "      <th>Name</th>\n",
       "      <th>Age</th>\n",
       "    </tr>\n",
       "  </thead>\n",
       "  <tbody>\n",
       "    <tr>\n",
       "      <th>1</th>\n",
       "      <td>Jens Jensen</td>\n",
       "      <td>49</td>\n",
       "    </tr>\n",
       "    <tr>\n",
       "      <th>2</th>\n",
       "      <td>Henning Havørn</td>\n",
       "      <td>35</td>\n",
       "    </tr>\n",
       "  </tbody>\n",
       "</table>\n",
       "</div>"
      ],
      "text/plain": [
       "             Name  Age\n",
       "1     Jens Jensen   49\n",
       "2  Henning Havørn   35"
      ]
     },
     "execution_count": 46,
     "metadata": {},
     "output_type": "execute_result"
    }
   ],
   "source": [
    "df1[df1['Age'] > 30]"
   ]
  },
  {
   "cell_type": "code",
   "execution_count": 47,
   "metadata": {},
   "outputs": [
    {
     "data": {
      "text/html": [
       "<div>\n",
       "<style scoped>\n",
       "    .dataframe tbody tr th:only-of-type {\n",
       "        vertical-align: middle;\n",
       "    }\n",
       "\n",
       "    .dataframe tbody tr th {\n",
       "        vertical-align: top;\n",
       "    }\n",
       "\n",
       "    .dataframe thead th {\n",
       "        text-align: right;\n",
       "    }\n",
       "</style>\n",
       "<table border=\"1\" class=\"dataframe\">\n",
       "  <thead>\n",
       "    <tr style=\"text-align: right;\">\n",
       "      <th></th>\n",
       "      <th>Name</th>\n",
       "      <th>Age</th>\n",
       "      <th>Age (squared)</th>\n",
       "    </tr>\n",
       "  </thead>\n",
       "  <tbody>\n",
       "    <tr>\n",
       "      <th>0</th>\n",
       "      <td>Monty Python</td>\n",
       "      <td>24</td>\n",
       "      <td>576</td>\n",
       "    </tr>\n",
       "    <tr>\n",
       "      <th>1</th>\n",
       "      <td>Jens Jensen</td>\n",
       "      <td>49</td>\n",
       "      <td>2401</td>\n",
       "    </tr>\n",
       "    <tr>\n",
       "      <th>2</th>\n",
       "      <td>Henning Havørn</td>\n",
       "      <td>35</td>\n",
       "      <td>1225</td>\n",
       "    </tr>\n",
       "  </tbody>\n",
       "</table>\n",
       "</div>"
      ],
      "text/plain": [
       "             Name  Age  Age (squared)\n",
       "0    Monty Python   24            576\n",
       "1     Jens Jensen   49           2401\n",
       "2  Henning Havørn   35           1225"
      ]
     },
     "execution_count": 47,
     "metadata": {},
     "output_type": "execute_result"
    }
   ],
   "source": [
    "df1['Age (squared)'] = df1['Age']**2\n",
    "\n",
    "df1"
   ]
  },
  {
   "cell_type": "code",
   "execution_count": 48,
   "metadata": {},
   "outputs": [
    {
     "data": {
      "text/html": [
       "<div>\n",
       "<style scoped>\n",
       "    .dataframe tbody tr th:only-of-type {\n",
       "        vertical-align: middle;\n",
       "    }\n",
       "\n",
       "    .dataframe tbody tr th {\n",
       "        vertical-align: top;\n",
       "    }\n",
       "\n",
       "    .dataframe thead th {\n",
       "        text-align: right;\n",
       "    }\n",
       "</style>\n",
       "<table border=\"1\" class=\"dataframe\">\n",
       "  <thead>\n",
       "    <tr style=\"text-align: right;\">\n",
       "      <th></th>\n",
       "      <th>Name</th>\n",
       "      <th>Is funny</th>\n",
       "    </tr>\n",
       "  </thead>\n",
       "  <tbody>\n",
       "    <tr>\n",
       "      <th>0</th>\n",
       "      <td>Monty Python</td>\n",
       "      <td>True</td>\n",
       "    </tr>\n",
       "    <tr>\n",
       "      <th>1</th>\n",
       "      <td>Jens Jensen</td>\n",
       "      <td>False</td>\n",
       "    </tr>\n",
       "    <tr>\n",
       "      <th>2</th>\n",
       "      <td>Henning Havørn</td>\n",
       "      <td>True</td>\n",
       "    </tr>\n",
       "    <tr>\n",
       "      <th>3</th>\n",
       "      <td>Martin Højland</td>\n",
       "      <td>False</td>\n",
       "    </tr>\n",
       "  </tbody>\n",
       "</table>\n",
       "</div>"
      ],
      "text/plain": [
       "             Name  Is funny\n",
       "0    Monty Python      True\n",
       "1     Jens Jensen     False\n",
       "2  Henning Havørn      True\n",
       "3  Martin Højland     False"
      ]
     },
     "execution_count": 48,
     "metadata": {},
     "output_type": "execute_result"
    }
   ],
   "source": [
    "temp = {'Name': ['Monty Python', 'Jens Jensen', 'Henning Havørn', 'Martin Højland'],\n",
    "        'Is funny': [True, False, True, False]}\n",
    "\n",
    "df2 = pd.DataFrame(data=temp)\n",
    "\n",
    "df2"
   ]
  },
  {
   "cell_type": "code",
   "execution_count": 49,
   "metadata": {},
   "outputs": [
    {
     "data": {
      "text/html": [
       "<div>\n",
       "<style scoped>\n",
       "    .dataframe tbody tr th:only-of-type {\n",
       "        vertical-align: middle;\n",
       "    }\n",
       "\n",
       "    .dataframe tbody tr th {\n",
       "        vertical-align: top;\n",
       "    }\n",
       "\n",
       "    .dataframe thead th {\n",
       "        text-align: right;\n",
       "    }\n",
       "</style>\n",
       "<table border=\"1\" class=\"dataframe\">\n",
       "  <thead>\n",
       "    <tr style=\"text-align: right;\">\n",
       "      <th></th>\n",
       "      <th>Name</th>\n",
       "      <th>Age</th>\n",
       "      <th>Age (squared)</th>\n",
       "      <th>Is funny</th>\n",
       "    </tr>\n",
       "  </thead>\n",
       "  <tbody>\n",
       "    <tr>\n",
       "      <th>0</th>\n",
       "      <td>Monty Python</td>\n",
       "      <td>24.0</td>\n",
       "      <td>576.0</td>\n",
       "      <td>True</td>\n",
       "    </tr>\n",
       "    <tr>\n",
       "      <th>1</th>\n",
       "      <td>Jens Jensen</td>\n",
       "      <td>49.0</td>\n",
       "      <td>2401.0</td>\n",
       "      <td>False</td>\n",
       "    </tr>\n",
       "    <tr>\n",
       "      <th>2</th>\n",
       "      <td>Henning Havørn</td>\n",
       "      <td>35.0</td>\n",
       "      <td>1225.0</td>\n",
       "      <td>True</td>\n",
       "    </tr>\n",
       "    <tr>\n",
       "      <th>3</th>\n",
       "      <td>Martin Højland</td>\n",
       "      <td>NaN</td>\n",
       "      <td>NaN</td>\n",
       "      <td>False</td>\n",
       "    </tr>\n",
       "  </tbody>\n",
       "</table>\n",
       "</div>"
      ],
      "text/plain": [
       "             Name   Age  Age (squared)  Is funny\n",
       "0    Monty Python  24.0          576.0      True\n",
       "1     Jens Jensen  49.0         2401.0     False\n",
       "2  Henning Havørn  35.0         1225.0      True\n",
       "3  Martin Højland   NaN            NaN     False"
      ]
     },
     "execution_count": 49,
     "metadata": {},
     "output_type": "execute_result"
    }
   ],
   "source": [
    "df3 = pd.merge(df1, df2, on='Name', how='right')\n",
    "\n",
    "df3"
   ]
  },
  {
   "cell_type": "code",
   "execution_count": 50,
   "metadata": {},
   "outputs": [
    {
     "data": {
      "text/html": [
       "<div>\n",
       "<style scoped>\n",
       "    .dataframe tbody tr th:only-of-type {\n",
       "        vertical-align: middle;\n",
       "    }\n",
       "\n",
       "    .dataframe tbody tr th {\n",
       "        vertical-align: top;\n",
       "    }\n",
       "\n",
       "    .dataframe thead th {\n",
       "        text-align: right;\n",
       "    }\n",
       "</style>\n",
       "<table border=\"1\" class=\"dataframe\">\n",
       "  <thead>\n",
       "    <tr style=\"text-align: right;\">\n",
       "      <th></th>\n",
       "      <th>Name</th>\n",
       "      <th>Age</th>\n",
       "      <th>Age (squared)</th>\n",
       "      <th>Is funny</th>\n",
       "    </tr>\n",
       "  </thead>\n",
       "  <tbody>\n",
       "    <tr>\n",
       "      <th>0</th>\n",
       "      <td>Monty Python</td>\n",
       "      <td>24.0</td>\n",
       "      <td>576.0</td>\n",
       "      <td>True</td>\n",
       "    </tr>\n",
       "    <tr>\n",
       "      <th>2</th>\n",
       "      <td>Henning Havørn</td>\n",
       "      <td>35.0</td>\n",
       "      <td>1225.0</td>\n",
       "      <td>True</td>\n",
       "    </tr>\n",
       "  </tbody>\n",
       "</table>\n",
       "</div>"
      ],
      "text/plain": [
       "             Name   Age  Age (squared)  Is funny\n",
       "0    Monty Python  24.0          576.0      True\n",
       "2  Henning Havørn  35.0         1225.0      True"
      ]
     },
     "execution_count": 50,
     "metadata": {},
     "output_type": "execute_result"
    }
   ],
   "source": [
    "df3[df3['Is funny'] == True]"
   ]
  },
  {
   "cell_type": "markdown",
   "metadata": {},
   "source": [
    "##### Vektorer og matricer med Numpy"
   ]
  },
  {
   "cell_type": "code",
   "execution_count": 51,
   "metadata": {},
   "outputs": [],
   "source": [
    "import numpy as np\n",
    "\n",
    "x = np.array([1, 2, 3])\n",
    "y = np.array([4, 5, 6])\n",
    "z = np.array([7, 8, 9])"
   ]
  },
  {
   "cell_type": "code",
   "execution_count": 52,
   "metadata": {},
   "outputs": [
    {
     "name": "stdout",
     "output_type": "stream",
     "text": [
      "[12 15 18]\n",
      "[10 20 30]\n",
      "[1 4 9]\n",
      "[ 4 10 18]\n"
     ]
    }
   ],
   "source": [
    "print(x + y + z)\n",
    "\n",
    "print(x * 10)\n",
    "\n",
    "print(x**2)\n",
    "\n",
    "print(x * y)"
   ]
  },
  {
   "cell_type": "code",
   "execution_count": 53,
   "metadata": {},
   "outputs": [
    {
     "name": "stdout",
     "output_type": "stream",
     "text": [
      "[[1 2 3]\n",
      " [4 5 6]\n",
      " [7 8 9]]\n",
      "[1 2 3 4 5 6 7 8 9]\n"
     ]
    }
   ],
   "source": [
    "X = np.array([x, y, z])\n",
    "\n",
    "print(X)\n",
    "\n",
    "print(X.flatten())"
   ]
  },
  {
   "cell_type": "code",
   "execution_count": 54,
   "metadata": {},
   "outputs": [],
   "source": [
    "mu = 10\n",
    "sigma = 2\n",
    "sample = np.random.normal(loc=mu, scale=sigma, size=5)"
   ]
  },
  {
   "cell_type": "code",
   "execution_count": 55,
   "metadata": {},
   "outputs": [
    {
     "name": "stdout",
     "output_type": "stream",
     "text": [
      "[13.03868796 13.17329281  9.33730033 12.20098575  9.2993682 ]\n",
      "[ 9.2993682   9.33730033 12.20098575 13.03868796 13.17329281]\n"
     ]
    }
   ],
   "source": [
    "print(sample)\n",
    "print(np.sort(sample))"
   ]
  },
  {
   "cell_type": "code",
   "execution_count": 56,
   "metadata": {},
   "outputs": [
    {
     "name": "stdout",
     "output_type": "stream",
     "text": [
      "[[0]\n",
      " [1]\n",
      " [3]]\n"
     ]
    }
   ],
   "source": [
    "print(np.argwhere(sample > mu))"
   ]
  },
  {
   "cell_type": "markdown",
   "metadata": {},
   "source": [
    "### ØVELSER: ALT DET BASALE (15 min, 17:45 - 18:00)"
   ]
  },
  {
   "cell_type": "markdown",
   "metadata": {},
   "source": [
    "### PAUSE (30 min, 18:00 - 18:30)"
   ]
  },
  {
   "cell_type": "markdown",
   "metadata": {},
   "source": [
    "### DATA INDSAMLING (15 min, 18:30 - 18:45)"
   ]
  },
  {
   "cell_type": "markdown",
   "metadata": {},
   "source": [
    "##### Indlæsning af data (txt, csv, Stata, SAS, SPSS, osv.)"
   ]
  },
  {
   "cell_type": "code",
   "execution_count": 141,
   "metadata": {},
   "outputs": [],
   "source": [
    "df_demo = pd.read_csv('Data/df_demography.csv', sep=',', dtype={'cpr': str})\n",
    "df_code = pd.read_csv('Data/df_coding_skills.csv', sep=',', dtype={'cpr': str})\n",
    "df_pers = pd.read_csv('Data/df_personal_characteristic.csv', sep=',', dtype={'cpr': str})"
   ]
  },
  {
   "cell_type": "code",
   "execution_count": 142,
   "metadata": {},
   "outputs": [],
   "source": [
    "df_code.to_pickle('Data/df_coding_skills.pkl')"
   ]
  },
  {
   "cell_type": "code",
   "execution_count": 143,
   "metadata": {},
   "outputs": [],
   "source": [
    "df_code = pd.read_pickle('Data/df_coding_skills.pkl')"
   ]
  },
  {
   "cell_type": "markdown",
   "metadata": {},
   "source": [
    "##### Databaser"
   ]
  },
  {
   "cell_type": "code",
   "execution_count": null,
   "metadata": {},
   "outputs": [],
   "source": []
  },
  {
   "cell_type": "markdown",
   "metadata": {},
   "source": [
    "##### API'er"
   ]
  },
  {
   "cell_type": "code",
   "execution_count": null,
   "metadata": {},
   "outputs": [],
   "source": []
  },
  {
   "cell_type": "markdown",
   "metadata": {},
   "source": [
    "##### Scrape data fra hjemmesider"
   ]
  },
  {
   "cell_type": "code",
   "execution_count": 144,
   "metadata": {},
   "outputs": [],
   "source": [
    "import urllib\n",
    "from bs4 import BeautifulSoup\n",
    "\n",
    "url = 'https://www.prosa.dk/arrangementer/'\n",
    "response = urllib.request.urlopen(url)\n",
    "\n",
    "soup = BeautifulSoup(response, 'html.parser')"
   ]
  },
  {
   "cell_type": "code",
   "execution_count": 145,
   "metadata": {},
   "outputs": [],
   "source": [
    "events = []\n",
    "\n",
    "for link in soup.find_all('span'):\n",
    "    if link.text:\n",
    "        events.append(link.text)"
   ]
  },
  {
   "cell_type": "code",
   "execution_count": 146,
   "metadata": {},
   "outputs": [
    {
     "name": "stdout",
     "output_type": "stream",
     "text": [
      "Functional Copenhageners Meetup Group\n",
      "PiO - Prosa i Odense inviterer til workshop: Introduktion til SQL\n",
      "Aarhus: Introduktion til React\n",
      "Odense: Workshop i mental træning og mindfulness\n",
      "Wordpress for øvede 1\n",
      "Åben workshop for sociale iværksættere (EKSTERN)\n",
      "Kom godt i gang med Python\n",
      "Kooperativ erfagruppe\n",
      "Byg en selvkørende Arduino-robot\n",
      "Odense: Prototyping og wireframing\n",
      "Analytics-kursus – Få forretningskritisk indsigt, der kan øge dit forretningspotentiale\n",
      "Aarhus: Workshop om it-sikkerhed og lockpicking\n",
      "Eksternt: AI, dataetik og den personlige informationsøkonomi\n",
      "Aarhus: Vinsmagning\n",
      "Photoshop for øvede\n",
      "Tillidsrepræsentantens rolle i forhold til persondata\n",
      "Aarhus: Sådan træner du din Arduino\n",
      "Webinar: Microsoft Azure overblik og status\n",
      "Aarhus: Formøde til delegeretforsamlingen\n",
      "Coldfront Community Day\n",
      "Kooperativ erfagruppe\n",
      "Wordpress for øvede 2\n",
      "Forretningshemmeligheder - hvad betyder det for dig\n",
      "Odense: Kursus i præsentationsteknik\n",
      "Aflyst: GDPR/DPO-erfagruppe\n",
      "Byg en selvkørende Arduino-robot\n",
      "Aarhus: Brætspilsaften\n",
      "Rundvisning i Filmarkivet: Fra slidte filmruller til digital kulturformidling\n",
      "Agil projektledelse og SCRUM i it-projekter\n",
      "Aarhus: Virtual Reality Café\n",
      "Købmandskab for it-folk\n",
      "Odense: Suricata, Bro og DNS opsamling\n",
      "Functional Copenhageners Meetup Group\n",
      "Aarhus: Moderne avanceret React\n",
      "Få mere ud af (den tid du spilder) på sociale medier (29.11)\n",
      "Kooperativ erfagruppe\n",
      "GirlzNight: Få mere tid\n",
      "Byg en selvkørende Arduino-robot\n",
      "Odense: Brætspilsaften\n",
      "Wordpress for øvede 3\n",
      "Juleafslutning med Anders Kjærulff og \"it-året, der gik\"\n",
      "Webinar:  Amazon Web Services overblik og status\n",
      "Kooperativ erfagruppe\n",
      "Aflyst: GDPR/DPO-erfagruppe\n",
      "Byg en selvkørende Arduino-robot\n",
      "TR introduktion\n",
      "Aarhus: Graduate Day\n",
      "TR introduktion\n",
      "Aarhus: Agil projektledelse og SCRUM i it-projekter\n",
      "Aarhus: Lær at håndtere feedback\n",
      "TR introduktion\n",
      "TR introduktion\n"
     ]
    }
   ],
   "source": [
    "for event in events:\n",
    "    print(event)"
   ]
  },
  {
   "cell_type": "markdown",
   "metadata": {},
   "source": [
    "### DATA ANALYSE (45 MIN, 18:45-19:30)"
   ]
  },
  {
   "cell_type": "markdown",
   "metadata": {},
   "source": [
    "##### Merge data frames"
   ]
  },
  {
   "cell_type": "code",
   "execution_count": 196,
   "metadata": {},
   "outputs": [],
   "source": [
    "df = pd.merge(df_demo, df_code, on='cpr')\n",
    "df = pd.merge(df, df_pers, on='cpr')"
   ]
  },
  {
   "cell_type": "code",
   "execution_count": 197,
   "metadata": {},
   "outputs": [
    {
     "data": {
      "text/html": [
       "<div>\n",
       "<style scoped>\n",
       "    .dataframe tbody tr th:only-of-type {\n",
       "        vertical-align: middle;\n",
       "    }\n",
       "\n",
       "    .dataframe tbody tr th {\n",
       "        vertical-align: top;\n",
       "    }\n",
       "\n",
       "    .dataframe thead th {\n",
       "        text-align: right;\n",
       "    }\n",
       "</style>\n",
       "<table border=\"1\" class=\"dataframe\">\n",
       "  <thead>\n",
       "    <tr style=\"text-align: right;\">\n",
       "      <th></th>\n",
       "      <th>cpr</th>\n",
       "      <th>municipality</th>\n",
       "      <th>salary</th>\n",
       "      <th>kan_R</th>\n",
       "      <th>kan_python</th>\n",
       "      <th>height</th>\n",
       "      <th>weight</th>\n",
       "      <th>hair_len</th>\n",
       "    </tr>\n",
       "  </thead>\n",
       "  <tbody>\n",
       "    <tr>\n",
       "      <th>0</th>\n",
       "      <td>1203913055</td>\n",
       "      <td>Esbjerg</td>\n",
       "      <td>377218</td>\n",
       "      <td>False</td>\n",
       "      <td>False</td>\n",
       "      <td>1.80</td>\n",
       "      <td>82.1</td>\n",
       "      <td>7.5</td>\n",
       "    </tr>\n",
       "    <tr>\n",
       "      <th>1</th>\n",
       "      <td>1308952064</td>\n",
       "      <td>Sønderborg</td>\n",
       "      <td>286903</td>\n",
       "      <td>True</td>\n",
       "      <td>True</td>\n",
       "      <td>1.58</td>\n",
       "      <td>61.6</td>\n",
       "      <td>47.2</td>\n",
       "    </tr>\n",
       "    <tr>\n",
       "      <th>2</th>\n",
       "      <td>2410936634</td>\n",
       "      <td>Thisted</td>\n",
       "      <td>337835</td>\n",
       "      <td>True</td>\n",
       "      <td>False</td>\n",
       "      <td>1.66</td>\n",
       "      <td>73.7</td>\n",
       "      <td>28.4</td>\n",
       "    </tr>\n",
       "    <tr>\n",
       "      <th>3</th>\n",
       "      <td>1605952976</td>\n",
       "      <td>København</td>\n",
       "      <td>273928</td>\n",
       "      <td>False</td>\n",
       "      <td>True</td>\n",
       "      <td>1.71</td>\n",
       "      <td>74.2</td>\n",
       "      <td>46.8</td>\n",
       "    </tr>\n",
       "    <tr>\n",
       "      <th>4</th>\n",
       "      <td>2802942759</td>\n",
       "      <td>Silkeborg</td>\n",
       "      <td>318220</td>\n",
       "      <td>True</td>\n",
       "      <td>False</td>\n",
       "      <td>1.91</td>\n",
       "      <td>83.8</td>\n",
       "      <td>6.3</td>\n",
       "    </tr>\n",
       "    <tr>\n",
       "      <th>5</th>\n",
       "      <td>2007903527</td>\n",
       "      <td>Syddjurs</td>\n",
       "      <td>325773</td>\n",
       "      <td>False</td>\n",
       "      <td>True</td>\n",
       "      <td>1.75</td>\n",
       "      <td>84.7</td>\n",
       "      <td>2.0</td>\n",
       "    </tr>\n",
       "    <tr>\n",
       "      <th>6</th>\n",
       "      <td>2406877802</td>\n",
       "      <td>Horsens</td>\n",
       "      <td>327235</td>\n",
       "      <td>False</td>\n",
       "      <td>False</td>\n",
       "      <td>1.92</td>\n",
       "      <td>61.9</td>\n",
       "      <td>26.0</td>\n",
       "    </tr>\n",
       "    <tr>\n",
       "      <th>7</th>\n",
       "      <td>1002624535</td>\n",
       "      <td>Dragør</td>\n",
       "      <td>689159</td>\n",
       "      <td>False</td>\n",
       "      <td>True</td>\n",
       "      <td>1.74</td>\n",
       "      <td>88.8</td>\n",
       "      <td>5.1</td>\n",
       "    </tr>\n",
       "    <tr>\n",
       "      <th>8</th>\n",
       "      <td>0312717659</td>\n",
       "      <td>Hvidovre</td>\n",
       "      <td>544341</td>\n",
       "      <td>False</td>\n",
       "      <td>False</td>\n",
       "      <td>1.67</td>\n",
       "      <td>88.6</td>\n",
       "      <td>4.4</td>\n",
       "    </tr>\n",
       "    <tr>\n",
       "      <th>9</th>\n",
       "      <td>1508663376</td>\n",
       "      <td>Herning</td>\n",
       "      <td>554418</td>\n",
       "      <td>False</td>\n",
       "      <td>True</td>\n",
       "      <td>1.75</td>\n",
       "      <td>72.1</td>\n",
       "      <td>32.6</td>\n",
       "    </tr>\n",
       "  </tbody>\n",
       "</table>\n",
       "</div>"
      ],
      "text/plain": [
       "          cpr municipality  salary  kan_R  kan_python  height  weight  \\\n",
       "0  1203913055      Esbjerg  377218  False       False    1.80    82.1   \n",
       "1  1308952064   Sønderborg  286903   True        True    1.58    61.6   \n",
       "2  2410936634      Thisted  337835   True       False    1.66    73.7   \n",
       "3  1605952976    København  273928  False        True    1.71    74.2   \n",
       "4  2802942759    Silkeborg  318220   True       False    1.91    83.8   \n",
       "5  2007903527     Syddjurs  325773  False        True    1.75    84.7   \n",
       "6  2406877802      Horsens  327235  False       False    1.92    61.9   \n",
       "7  1002624535       Dragør  689159  False        True    1.74    88.8   \n",
       "8  0312717659     Hvidovre  544341  False       False    1.67    88.6   \n",
       "9  1508663376      Herning  554418  False        True    1.75    72.1   \n",
       "\n",
       "   hair_len  \n",
       "0       7.5  \n",
       "1      47.2  \n",
       "2      28.4  \n",
       "3      46.8  \n",
       "4       6.3  \n",
       "5       2.0  \n",
       "6      26.0  \n",
       "7       5.1  \n",
       "8       4.4  \n",
       "9      32.6  "
      ]
     },
     "execution_count": 197,
     "metadata": {},
     "output_type": "execute_result"
    }
   ],
   "source": [
    "df.iloc[:10]"
   ]
  },
  {
   "cell_type": "markdown",
   "metadata": {},
   "source": [
    "##### Feature engineering"
   ]
  },
  {
   "cell_type": "code",
   "execution_count": 198,
   "metadata": {},
   "outputs": [],
   "source": [
    "df['gender'] = df['cpr'].str[9].apply(int)\n",
    "df['gender'] = np.where(df['gender'] % 2 == 0, 'woman', 'man')"
   ]
  },
  {
   "cell_type": "code",
   "execution_count": 199,
   "metadata": {},
   "outputs": [],
   "source": [
    "df['year'] = df['cpr'].str[4:6]\n",
    "df['year'] = '19' + df['year']\n",
    "#df['year'] = df['year'].apply(int)"
   ]
  },
  {
   "cell_type": "code",
   "execution_count": 200,
   "metadata": {},
   "outputs": [],
   "source": [
    "df['month'] = df['cpr'].str[2:4]\n",
    "#df['month'] = df['month'].apply(int)"
   ]
  },
  {
   "cell_type": "code",
   "execution_count": 201,
   "metadata": {},
   "outputs": [],
   "source": [
    "df['day'] = df['cpr'].str[0:2]\n",
    "#df['day'] = df['day'].apply(int)"
   ]
  },
  {
   "cell_type": "code",
   "execution_count": 202,
   "metadata": {},
   "outputs": [],
   "source": [
    "df['birthday'] = pd.to_datetime(df['day'] + df['month'] + df['year'], format='%d%m%Y')"
   ]
  },
  {
   "cell_type": "code",
   "execution_count": 209,
   "metadata": {},
   "outputs": [],
   "source": [
    "now = pd.Timestamp(dt.datetime.now())\n",
    "df['age'] = (now - df['birthday'])\n",
    "df['age'] = df['age'].astype('<m8[Y]')"
   ]
  },
  {
   "cell_type": "code",
   "execution_count": 210,
   "metadata": {},
   "outputs": [
    {
     "data": {
      "text/html": [
       "<div>\n",
       "<style scoped>\n",
       "    .dataframe tbody tr th:only-of-type {\n",
       "        vertical-align: middle;\n",
       "    }\n",
       "\n",
       "    .dataframe tbody tr th {\n",
       "        vertical-align: top;\n",
       "    }\n",
       "\n",
       "    .dataframe thead th {\n",
       "        text-align: right;\n",
       "    }\n",
       "</style>\n",
       "<table border=\"1\" class=\"dataframe\">\n",
       "  <thead>\n",
       "    <tr style=\"text-align: right;\">\n",
       "      <th></th>\n",
       "      <th>cpr</th>\n",
       "      <th>municipality</th>\n",
       "      <th>salary</th>\n",
       "      <th>kan_R</th>\n",
       "      <th>kan_python</th>\n",
       "      <th>height</th>\n",
       "      <th>weight</th>\n",
       "      <th>hair_len</th>\n",
       "      <th>gender</th>\n",
       "      <th>year</th>\n",
       "      <th>month</th>\n",
       "      <th>day</th>\n",
       "      <th>birthday</th>\n",
       "      <th>age</th>\n",
       "    </tr>\n",
       "  </thead>\n",
       "  <tbody>\n",
       "    <tr>\n",
       "      <th>0</th>\n",
       "      <td>1203913055</td>\n",
       "      <td>Esbjerg</td>\n",
       "      <td>377218</td>\n",
       "      <td>False</td>\n",
       "      <td>False</td>\n",
       "      <td>1.80</td>\n",
       "      <td>82.1</td>\n",
       "      <td>7.5</td>\n",
       "      <td>man</td>\n",
       "      <td>1991</td>\n",
       "      <td>03</td>\n",
       "      <td>12</td>\n",
       "      <td>1991-03-12</td>\n",
       "      <td>27.0</td>\n",
       "    </tr>\n",
       "    <tr>\n",
       "      <th>1</th>\n",
       "      <td>1308952064</td>\n",
       "      <td>Sønderborg</td>\n",
       "      <td>286903</td>\n",
       "      <td>True</td>\n",
       "      <td>True</td>\n",
       "      <td>1.58</td>\n",
       "      <td>61.6</td>\n",
       "      <td>47.2</td>\n",
       "      <td>woman</td>\n",
       "      <td>1995</td>\n",
       "      <td>08</td>\n",
       "      <td>13</td>\n",
       "      <td>1995-08-13</td>\n",
       "      <td>23.0</td>\n",
       "    </tr>\n",
       "    <tr>\n",
       "      <th>2</th>\n",
       "      <td>2410936634</td>\n",
       "      <td>Thisted</td>\n",
       "      <td>337835</td>\n",
       "      <td>True</td>\n",
       "      <td>False</td>\n",
       "      <td>1.66</td>\n",
       "      <td>73.7</td>\n",
       "      <td>28.4</td>\n",
       "      <td>woman</td>\n",
       "      <td>1993</td>\n",
       "      <td>10</td>\n",
       "      <td>24</td>\n",
       "      <td>1993-10-24</td>\n",
       "      <td>25.0</td>\n",
       "    </tr>\n",
       "    <tr>\n",
       "      <th>3</th>\n",
       "      <td>1605952976</td>\n",
       "      <td>København</td>\n",
       "      <td>273928</td>\n",
       "      <td>False</td>\n",
       "      <td>True</td>\n",
       "      <td>1.71</td>\n",
       "      <td>74.2</td>\n",
       "      <td>46.8</td>\n",
       "      <td>woman</td>\n",
       "      <td>1995</td>\n",
       "      <td>05</td>\n",
       "      <td>16</td>\n",
       "      <td>1995-05-16</td>\n",
       "      <td>23.0</td>\n",
       "    </tr>\n",
       "    <tr>\n",
       "      <th>4</th>\n",
       "      <td>2802942759</td>\n",
       "      <td>Silkeborg</td>\n",
       "      <td>318220</td>\n",
       "      <td>True</td>\n",
       "      <td>False</td>\n",
       "      <td>1.91</td>\n",
       "      <td>83.8</td>\n",
       "      <td>6.3</td>\n",
       "      <td>man</td>\n",
       "      <td>1994</td>\n",
       "      <td>02</td>\n",
       "      <td>28</td>\n",
       "      <td>1994-02-28</td>\n",
       "      <td>24.0</td>\n",
       "    </tr>\n",
       "    <tr>\n",
       "      <th>5</th>\n",
       "      <td>2007903527</td>\n",
       "      <td>Syddjurs</td>\n",
       "      <td>325773</td>\n",
       "      <td>False</td>\n",
       "      <td>True</td>\n",
       "      <td>1.75</td>\n",
       "      <td>84.7</td>\n",
       "      <td>2.0</td>\n",
       "      <td>man</td>\n",
       "      <td>1990</td>\n",
       "      <td>07</td>\n",
       "      <td>20</td>\n",
       "      <td>1990-07-20</td>\n",
       "      <td>28.0</td>\n",
       "    </tr>\n",
       "    <tr>\n",
       "      <th>6</th>\n",
       "      <td>2406877802</td>\n",
       "      <td>Horsens</td>\n",
       "      <td>327235</td>\n",
       "      <td>False</td>\n",
       "      <td>False</td>\n",
       "      <td>1.92</td>\n",
       "      <td>61.9</td>\n",
       "      <td>26.0</td>\n",
       "      <td>woman</td>\n",
       "      <td>1987</td>\n",
       "      <td>06</td>\n",
       "      <td>24</td>\n",
       "      <td>1987-06-24</td>\n",
       "      <td>31.0</td>\n",
       "    </tr>\n",
       "    <tr>\n",
       "      <th>7</th>\n",
       "      <td>1002624535</td>\n",
       "      <td>Dragør</td>\n",
       "      <td>689159</td>\n",
       "      <td>False</td>\n",
       "      <td>True</td>\n",
       "      <td>1.74</td>\n",
       "      <td>88.8</td>\n",
       "      <td>5.1</td>\n",
       "      <td>man</td>\n",
       "      <td>1962</td>\n",
       "      <td>02</td>\n",
       "      <td>10</td>\n",
       "      <td>1962-02-10</td>\n",
       "      <td>56.0</td>\n",
       "    </tr>\n",
       "    <tr>\n",
       "      <th>8</th>\n",
       "      <td>0312717659</td>\n",
       "      <td>Hvidovre</td>\n",
       "      <td>544341</td>\n",
       "      <td>False</td>\n",
       "      <td>False</td>\n",
       "      <td>1.67</td>\n",
       "      <td>88.6</td>\n",
       "      <td>4.4</td>\n",
       "      <td>man</td>\n",
       "      <td>1971</td>\n",
       "      <td>12</td>\n",
       "      <td>03</td>\n",
       "      <td>1971-12-03</td>\n",
       "      <td>46.0</td>\n",
       "    </tr>\n",
       "    <tr>\n",
       "      <th>9</th>\n",
       "      <td>1508663376</td>\n",
       "      <td>Herning</td>\n",
       "      <td>554418</td>\n",
       "      <td>False</td>\n",
       "      <td>True</td>\n",
       "      <td>1.75</td>\n",
       "      <td>72.1</td>\n",
       "      <td>32.6</td>\n",
       "      <td>woman</td>\n",
       "      <td>1966</td>\n",
       "      <td>08</td>\n",
       "      <td>15</td>\n",
       "      <td>1966-08-15</td>\n",
       "      <td>52.0</td>\n",
       "    </tr>\n",
       "  </tbody>\n",
       "</table>\n",
       "</div>"
      ],
      "text/plain": [
       "          cpr municipality  salary  kan_R  kan_python  height  weight  \\\n",
       "0  1203913055      Esbjerg  377218  False       False    1.80    82.1   \n",
       "1  1308952064   Sønderborg  286903   True        True    1.58    61.6   \n",
       "2  2410936634      Thisted  337835   True       False    1.66    73.7   \n",
       "3  1605952976    København  273928  False        True    1.71    74.2   \n",
       "4  2802942759    Silkeborg  318220   True       False    1.91    83.8   \n",
       "5  2007903527     Syddjurs  325773  False        True    1.75    84.7   \n",
       "6  2406877802      Horsens  327235  False       False    1.92    61.9   \n",
       "7  1002624535       Dragør  689159  False        True    1.74    88.8   \n",
       "8  0312717659     Hvidovre  544341  False       False    1.67    88.6   \n",
       "9  1508663376      Herning  554418  False        True    1.75    72.1   \n",
       "\n",
       "   hair_len gender  year month day   birthday   age  \n",
       "0       7.5    man  1991    03  12 1991-03-12  27.0  \n",
       "1      47.2  woman  1995    08  13 1995-08-13  23.0  \n",
       "2      28.4  woman  1993    10  24 1993-10-24  25.0  \n",
       "3      46.8  woman  1995    05  16 1995-05-16  23.0  \n",
       "4       6.3    man  1994    02  28 1994-02-28  24.0  \n",
       "5       2.0    man  1990    07  20 1990-07-20  28.0  \n",
       "6      26.0  woman  1987    06  24 1987-06-24  31.0  \n",
       "7       5.1    man  1962    02  10 1962-02-10  56.0  \n",
       "8       4.4    man  1971    12  03 1971-12-03  46.0  \n",
       "9      32.6  woman  1966    08  15 1966-08-15  52.0  "
      ]
     },
     "execution_count": 210,
     "metadata": {},
     "output_type": "execute_result"
    }
   ],
   "source": [
    "df.iloc[:10]"
   ]
  },
  {
   "cell_type": "markdown",
   "metadata": {},
   "source": [
    "##### Lineær regression"
   ]
  },
  {
   "cell_type": "code",
   "execution_count": 213,
   "metadata": {},
   "outputs": [],
   "source": [
    "x = df['height'].values\n",
    "y = df['weight'].values"
   ]
  },
  {
   "cell_type": "code",
   "execution_count": 217,
   "metadata": {},
   "outputs": [],
   "source": [
    "from scipy import stats\n",
    "\n",
    "slope, intercept, r_value, p_value, std_err = stats.linregress(x, y)"
   ]
  },
  {
   "cell_type": "markdown",
   "metadata": {},
   "source": [
    "##### Supervised learning (Logistisk regression med Scikit-learn)"
   ]
  },
  {
   "cell_type": "code",
   "execution_count": 261,
   "metadata": {},
   "outputs": [],
   "source": [
    "from sklearn.linear_model import LogisticRegression\n",
    "from sklearn.model_selection import train_test_split\n",
    "from sklearn.metrics import confusion_matrix, accuracy_score"
   ]
  },
  {
   "cell_type": "code",
   "execution_count": 255,
   "metadata": {},
   "outputs": [],
   "source": [
    "X = df[['height', 'weight']].values\n",
    "y = df['gender'].values\n",
    "\n",
    "X_train, X_test, y_train, y_test = train_test_split(X, y, test_size=0.2)"
   ]
  },
  {
   "cell_type": "code",
   "execution_count": 259,
   "metadata": {},
   "outputs": [
    {
     "name": "stdout",
     "output_type": "stream",
     "text": [
      "[[-0.94824917 -0.32712224]]\n",
      "[27.04830077]\n"
     ]
    }
   ],
   "source": [
    "log_reg = LogisticRegression()\n",
    "log_reg.fit(X_train, y_train)\n",
    "\n",
    "print(log_reg.coef_)\n",
    "print(log_reg.intercept_)"
   ]
  },
  {
   "cell_type": "code",
   "execution_count": 267,
   "metadata": {},
   "outputs": [
    {
     "name": "stdout",
     "output_type": "stream",
     "text": [
      "[[759  32]\n",
      " [ 37 726]]\n",
      "0.9555984555984556\n",
      "0.9555984555984556\n"
     ]
    }
   ],
   "source": [
    "y_pred = log_reg.predict(X_test)\n",
    "\n",
    "print(confusion_matrix(y_test, y_pred))\n",
    "print(accuracy_score(y_test, y_pred))\n",
    "print(sum(y_test == y_pred) / len(y_test))"
   ]
  },
  {
   "cell_type": "markdown",
   "metadata": {},
   "source": [
    "##### Unsupervised learning (Kmeans med Scikit-learn)"
   ]
  },
  {
   "cell_type": "code",
   "execution_count": 269,
   "metadata": {},
   "outputs": [],
   "source": [
    "from sklearn.cluster import KMeans"
   ]
  },
  {
   "cell_type": "code",
   "execution_count": 297,
   "metadata": {},
   "outputs": [
    {
     "name": "stdout",
     "output_type": "stream",
     "text": [
      "[ 1.68546122 69.23236515]\n",
      "[ 1.80987338 86.59652597]\n"
     ]
    }
   ],
   "source": [
    "kmeans = KMeans(n_clusters=2)\n",
    "kmeans.fit(X_train)\n",
    "\n",
    "print(kmeans.cluster_centers_[0])\n",
    "print(kmeans.cluster_centers_[1])"
   ]
  },
  {
   "cell_type": "code",
   "execution_count": 305,
   "metadata": {},
   "outputs": [
    {
     "name": "stdout",
     "output_type": "stream",
     "text": [
      "height      1.685461\n",
      "weight     69.232365\n",
      "cluster     0.000000\n",
      "dtype: float64\n",
      "height      1.809873\n",
      "weight     86.596526\n",
      "cluster     1.000000\n",
      "dtype: float64\n"
     ]
    }
   ],
   "source": [
    "df_cluster = pd.DataFrame()\n",
    "df_cluster['height'] = X_train[:, 0]\n",
    "df_cluster['weight'] = X_train[:, 1]\n",
    "df_cluster['cluster'] = kmeans.labels_\n",
    "\n",
    "print(df_cluster[df_cluster['cluster'] == 0].mean())\n",
    "\n",
    "print(df_cluster[df_cluster['cluster'] == 1].mean())"
   ]
  },
  {
   "cell_type": "code",
   "execution_count": 293,
   "metadata": {},
   "outputs": [
    {
     "name": "stdout",
     "output_type": "stream",
     "text": [
      "[0 1 1 ... 0 0 1]\n",
      "[False  True  True ...  True False  True]\n",
      "0.9485199485199485\n"
     ]
    }
   ],
   "source": [
    "cluster_pred = kmeans.predict(X_test)\n",
    "print(cluster_pred)\n",
    "\n",
    "cluster_labels = y_test == 'woman' #man/woman\n",
    "print(cluster_labels)\n",
    "\n",
    "print(accuracy_score(cluster_labels, cluster_pred))"
   ]
  },
  {
   "cell_type": "markdown",
   "metadata": {},
   "source": [
    "### DATA VISUALISERING (15 min, 19:30 - 19:45)"
   ]
  },
  {
   "cell_type": "markdown",
   "metadata": {},
   "source": [
    "##### Visualisering med Matplotlib"
   ]
  },
  {
   "cell_type": "code",
   "execution_count": null,
   "metadata": {},
   "outputs": [],
   "source": []
  },
  {
   "cell_type": "markdown",
   "metadata": {},
   "source": [
    "##### Scatter plot"
   ]
  },
  {
   "cell_type": "code",
   "execution_count": null,
   "metadata": {},
   "outputs": [],
   "source": []
  },
  {
   "cell_type": "markdown",
   "metadata": {},
   "source": [
    "##### Bar plot"
   ]
  },
  {
   "cell_type": "code",
   "execution_count": null,
   "metadata": {},
   "outputs": [],
   "source": []
  },
  {
   "cell_type": "markdown",
   "metadata": {},
   "source": [
    "### TWITTER DATA (15 MIN, 19:45-20:00)"
   ]
  },
  {
   "cell_type": "code",
   "execution_count": null,
   "metadata": {},
   "outputs": [],
   "source": []
  },
  {
   "cell_type": "markdown",
   "metadata": {},
   "source": [
    "### ØVELSE (45 min, 20:00 - 20:45)"
   ]
  },
  {
   "cell_type": "markdown",
   "metadata": {},
   "source": [
    "### SPØRGSMÅL / BUFFERTID (15 min, 20:45 - 21:00)"
   ]
  }
 ],
 "metadata": {
  "kernelspec": {
   "display_name": "Python 3",
   "language": "python",
   "name": "python3"
  },
  "language_info": {
   "codemirror_mode": {
    "name": "ipython",
    "version": 3
   },
   "file_extension": ".py",
   "mimetype": "text/x-python",
   "name": "python",
   "nbconvert_exporter": "python",
   "pygments_lexer": "ipython3",
   "version": "3.6.5"
  }
 },
 "nbformat": 4,
 "nbformat_minor": 2
}
