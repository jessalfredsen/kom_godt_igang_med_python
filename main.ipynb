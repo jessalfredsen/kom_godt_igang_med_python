{
 "cells": [
  {
   "cell_type": "markdown",
   "metadata": {},
   "source": [
    "### INTRODUKTION (15 min, 17:00 - 17:15)"
   ]
  },
  {
   "cell_type": "code",
   "execution_count": null,
   "metadata": {},
   "outputs": [],
   "source": []
  },
  {
   "cell_type": "markdown",
   "metadata": {},
   "source": [
    "### ALT DET BASALE (30 min, 17:15 - 17:45)"
   ]
  },
  {
   "cell_type": "markdown",
   "metadata": {},
   "source": [
    "##### Python Scripts / IPython Notebooks"
   ]
  },
  {
   "cell_type": "code",
   "execution_count": null,
   "metadata": {},
   "outputs": [],
   "source": []
  },
  {
   "cell_type": "code",
   "execution_count": 1,
   "metadata": {},
   "outputs": [],
   "source": [
    "# COMMENTS COMMENTS COMMENTS...\n",
    "\n",
    "# ALWAYS NICE TO WRITE COMMENTS"
   ]
  },
  {
   "cell_type": "code",
   "execution_count": 2,
   "metadata": {},
   "outputs": [
    {
     "name": "stdout",
     "output_type": "stream",
     "text": [
      "Hello\n"
     ]
    }
   ],
   "source": [
    "print('Hello')"
   ]
  },
  {
   "cell_type": "code",
   "execution_count": 3,
   "metadata": {},
   "outputs": [
    {
     "name": "stdout",
     "output_type": "stream",
     "text": [
      "\n",
      "A picture of a dog...\n",
      " 0____\n",
      "  ||||\n",
      "\n"
     ]
    }
   ],
   "source": [
    "print('''\n",
    "A picture of a dog...\n",
    " 0____\n",
    "  ||||\n",
    "''')"
   ]
  },
  {
   "cell_type": "markdown",
   "metadata": {},
   "source": [
    "### Assignment og variable"
   ]
  },
  {
   "cell_type": "code",
   "execution_count": 4,
   "metadata": {},
   "outputs": [],
   "source": [
    "a = 42\n",
    "\n",
    "b = [1, 2, 3, 4, 5, 5]\n",
    "\n",
    "c = range(3)\n",
    "\n",
    "d = 'PROSA'\n",
    "\n",
    "e = ['Peter', 'Rosa', 'Oscar', 'Sebastian', 'Adam']\n",
    "\n",
    "f = ['D', 4, 'M', e]"
   ]
  },
  {
   "cell_type": "code",
   "execution_count": 5,
   "metadata": {},
   "outputs": [
    {
     "name": "stdout",
     "output_type": "stream",
     "text": [
      "42\n",
      "range(0, 3)\n",
      "PROSA\n"
     ]
    }
   ],
   "source": [
    "print(a)\n",
    "print(c)\n",
    "print(d)"
   ]
  },
  {
   "cell_type": "code",
   "execution_count": 6,
   "metadata": {},
   "outputs": [
    {
     "name": "stdout",
     "output_type": "stream",
     "text": [
      "['D', 4, 'M', ['Peter', 'Rosa', 'Oscar', 'Sebastian', 'Adam']]\n"
     ]
    }
   ],
   "source": [
    "print(f)"
   ]
  },
  {
   "cell_type": "code",
   "execution_count": 7,
   "metadata": {},
   "outputs": [],
   "source": [
    "f[1] = 'Just changed this'"
   ]
  },
  {
   "cell_type": "code",
   "execution_count": 8,
   "metadata": {},
   "outputs": [
    {
     "name": "stdout",
     "output_type": "stream",
     "text": [
      "['D', 'Just changed this', 'M', ['Peter', 'Rosa', 'Oscar', 'Sebastian', 'Adam']]\n"
     ]
    }
   ],
   "source": [
    "print(f)"
   ]
  },
  {
   "cell_type": "markdown",
   "metadata": {},
   "source": [
    "### Udvælge elementer i lister. Indeks og slice."
   ]
  },
  {
   "cell_type": "code",
   "execution_count": 9,
   "metadata": {},
   "outputs": [
    {
     "name": "stdout",
     "output_type": "stream",
     "text": [
      "[1, 2, 3, 4, 5, 5]\n"
     ]
    }
   ],
   "source": [
    "print(b)"
   ]
  },
  {
   "cell_type": "code",
   "execution_count": 10,
   "metadata": {},
   "outputs": [
    {
     "name": "stdout",
     "output_type": "stream",
     "text": [
      "2\n",
      "5\n",
      "[3, 4]\n",
      "[4, 5]\n",
      "['Oscar', 'Sebastian']\n"
     ]
    }
   ],
   "source": [
    "print(b[1])\n",
    "\n",
    "print(b[-2])\n",
    "\n",
    "print(b[2:4])\n",
    "\n",
    "print(b[-3:-1])\n",
    "\n",
    "print(f[3][2:4])"
   ]
  },
  {
   "cell_type": "markdown",
   "metadata": {},
   "source": [
    "### Dictionaries"
   ]
  },
  {
   "cell_type": "code",
   "execution_count": 11,
   "metadata": {},
   "outputs": [],
   "source": [
    "dic = {\n",
    "    'integer': 42,\n",
    "    'float': 23.23,\n",
    "    'string': 'Python rules!',\n",
    "    'list': ['nested', 'list'],\n",
    "    'dictionary': {'inception': 'dictionary'}\n",
    "}"
   ]
  },
  {
   "cell_type": "code",
   "execution_count": 12,
   "metadata": {},
   "outputs": [
    {
     "name": "stdout",
     "output_type": "stream",
     "text": [
      "{'integer': 42, 'float': 23.23, 'string': 'Python rules!', 'list': ['nested', 'list'], 'dictionary': {'inception': 'dictionary'}}\n"
     ]
    }
   ],
   "source": [
    "print(dic)"
   ]
  },
  {
   "cell_type": "code",
   "execution_count": 13,
   "metadata": {},
   "outputs": [
    {
     "name": "stdout",
     "output_type": "stream",
     "text": [
      "23.23\n",
      "{'inception': 'dictionary'}\n"
     ]
    }
   ],
   "source": [
    "print(dic['float'])\n",
    "print(dic['dictionary'])"
   ]
  },
  {
   "cell_type": "code",
   "execution_count": 14,
   "metadata": {},
   "outputs": [],
   "source": [
    "dic['float'] = 12.34"
   ]
  },
  {
   "cell_type": "markdown",
   "metadata": {},
   "source": [
    "### Sets"
   ]
  },
  {
   "cell_type": "code",
   "execution_count": 15,
   "metadata": {},
   "outputs": [
    {
     "name": "stdout",
     "output_type": "stream",
     "text": [
      "{'Janice', 'Jane', 'Jack', 'John'}\n"
     ]
    }
   ],
   "source": [
    "names1 = set(['John', 'Jane', 'Jack', 'Janice'])\n",
    "\n",
    "print(names1)"
   ]
  },
  {
   "cell_type": "code",
   "execution_count": 16,
   "metadata": {},
   "outputs": [
    {
     "name": "stdout",
     "output_type": "stream",
     "text": [
      "{'Jane', 'Tobias', 'Janice', 'Jack', 'John'}\n"
     ]
    }
   ],
   "source": [
    "names1.add('Tobias')\n",
    "\n",
    "print(names1)"
   ]
  },
  {
   "cell_type": "code",
   "execution_count": 17,
   "metadata": {},
   "outputs": [
    {
     "name": "stdout",
     "output_type": "stream",
     "text": [
      "{'Jane', 'Tobias', 'Janice', 'Jack', 'John'}\n"
     ]
    }
   ],
   "source": [
    "names1.add('Tobias')\n",
    "\n",
    "print(names1)"
   ]
  },
  {
   "cell_type": "code",
   "execution_count": 18,
   "metadata": {},
   "outputs": [],
   "source": [
    "names2 = set(['Anders', 'Line', 'Martin', 'Amalie', 'John', 'Jane'])"
   ]
  },
  {
   "cell_type": "code",
   "execution_count": 19,
   "metadata": {},
   "outputs": [
    {
     "name": "stdout",
     "output_type": "stream",
     "text": [
      "{'Jane', 'Line', 'Tobias', 'Martin', 'Jack', 'Janice', 'Amalie', 'Anders', 'John'}\n",
      "{'Jane', 'John'}\n"
     ]
    }
   ],
   "source": [
    "print(names1.union(names2))\n",
    "\n",
    "print(names1.intersection(names2))"
   ]
  },
  {
   "cell_type": "markdown",
   "metadata": {},
   "source": [
    "_____________________\n"
   ]
  },
  {
   "cell_type": "markdown",
   "metadata": {},
   "source": [
    "### For loop"
   ]
  },
  {
   "cell_type": "code",
   "execution_count": 20,
   "metadata": {},
   "outputs": [
    {
     "name": "stdout",
     "output_type": "stream",
     "text": [
      "Peter\n",
      "Rosa\n",
      "Oscar\n"
     ]
    }
   ],
   "source": [
    "for idx in c:\n",
    "    print(e[idx])"
   ]
  },
  {
   "cell_type": "markdown",
   "metadata": {},
   "source": [
    "### For loop og dictionaries"
   ]
  },
  {
   "cell_type": "code",
   "execution_count": 21,
   "metadata": {},
   "outputs": [
    {
     "name": "stdout",
     "output_type": "stream",
     "text": [
      "42\n",
      "12.34\n",
      "Python rules!\n",
      "['nested', 'list']\n",
      "{'inception': 'dictionary'}\n"
     ]
    }
   ],
   "source": [
    "for key in dic.keys():\n",
    "    print(dic[key])"
   ]
  },
  {
   "cell_type": "code",
   "execution_count": 22,
   "metadata": {},
   "outputs": [
    {
     "name": "stdout",
     "output_type": "stream",
     "text": [
      "42\n",
      "12.34\n",
      "Python rules!\n",
      "['nested', 'list']\n",
      "{'inception': 'dictionary'}\n"
     ]
    }
   ],
   "source": [
    "for val in dic.values():\n",
    "    print(val)"
   ]
  },
  {
   "cell_type": "markdown",
   "metadata": {},
   "source": [
    "### List comprehension"
   ]
  },
  {
   "cell_type": "code",
   "execution_count": 23,
   "metadata": {},
   "outputs": [],
   "source": [
    "x = [number**2 for number in range(21)]"
   ]
  },
  {
   "cell_type": "code",
   "execution_count": 24,
   "metadata": {},
   "outputs": [
    {
     "name": "stdout",
     "output_type": "stream",
     "text": [
      "[0, 1, 4, 9, 16, 25, 36, 49, 64, 81, 100, 121, 144, 169, 196, 225, 256, 289, 324, 361, 400]\n"
     ]
    }
   ],
   "source": [
    "print(x)"
   ]
  },
  {
   "cell_type": "code",
   "execution_count": 25,
   "metadata": {},
   "outputs": [],
   "source": [
    "y = [number for number in x if number % 2 == 0]"
   ]
  },
  {
   "cell_type": "code",
   "execution_count": 26,
   "metadata": {},
   "outputs": [
    {
     "name": "stdout",
     "output_type": "stream",
     "text": [
      "[0, 4, 16, 36, 64, 100, 144, 196, 256, 324, 400]\n"
     ]
    }
   ],
   "source": [
    "print(y)"
   ]
  },
  {
   "cell_type": "code",
   "execution_count": 27,
   "metadata": {},
   "outputs": [],
   "source": [
    "first_letters = [word[0] for word in e]"
   ]
  },
  {
   "cell_type": "code",
   "execution_count": 28,
   "metadata": {},
   "outputs": [
    {
     "name": "stdout",
     "output_type": "stream",
     "text": [
      "['P', 'R', 'O', 'S', 'A']\n"
     ]
    }
   ],
   "source": [
    "print(first_letters)"
   ]
  },
  {
   "cell_type": "markdown",
   "metadata": {},
   "source": [
    "### Funktioner"
   ]
  },
  {
   "cell_type": "code",
   "execution_count": 29,
   "metadata": {},
   "outputs": [
    {
     "name": "stdout",
     "output_type": "stream",
     "text": [
      "11\n",
      "1540\n",
      "400\n"
     ]
    }
   ],
   "source": [
    "print(len(y))\n",
    "print(sum(y))\n",
    "print(max(y))"
   ]
  },
  {
   "cell_type": "code",
   "execution_count": 30,
   "metadata": {},
   "outputs": [
    {
     "name": "stdout",
     "output_type": "stream",
     "text": [
      "12.35\n"
     ]
    }
   ],
   "source": [
    "z = 12.3456789\n",
    "\n",
    "print(round(z, 2))"
   ]
  },
  {
   "cell_type": "code",
   "execution_count": 31,
   "metadata": {},
   "outputs": [],
   "source": [
    "for i in range(10):\n",
    "    if i > 5:\n",
    "        break"
   ]
  },
  {
   "cell_type": "code",
   "execution_count": 32,
   "metadata": {},
   "outputs": [
    {
     "data": {
      "text/plain": [
       "['Jane', 'Tobias', 'Janice', 'Jack', 'John']"
      ]
     },
     "execution_count": 32,
     "metadata": {},
     "output_type": "execute_result"
    }
   ],
   "source": [
    "list(names1)"
   ]
  },
  {
   "cell_type": "markdown",
   "metadata": {},
   "source": [
    "### Funktioner vi selv laver"
   ]
  },
  {
   "cell_type": "code",
   "execution_count": 33,
   "metadata": {},
   "outputs": [],
   "source": [
    "def broken_calculator_addition(x, y):\n",
    "    return x + y + 2"
   ]
  },
  {
   "cell_type": "code",
   "execution_count": 34,
   "metadata": {},
   "outputs": [
    {
     "data": {
      "text/plain": [
       "6"
      ]
     },
     "execution_count": 34,
     "metadata": {},
     "output_type": "execute_result"
    }
   ],
   "source": [
    "broken_calculator_addition(2, 2)"
   ]
  },
  {
   "cell_type": "code",
   "execution_count": 35,
   "metadata": {},
   "outputs": [],
   "source": [
    "def print_result(x, y):\n",
    "    res = broken_calculator_addition(x, y)\n",
    "    s = 'When you add %d and %d, you get %d' % (x, y, res)\n",
    "    print(s)"
   ]
  },
  {
   "cell_type": "code",
   "execution_count": 36,
   "metadata": {},
   "outputs": [
    {
     "name": "stdout",
     "output_type": "stream",
     "text": [
      "When you add 25 and 15, you get 42\n"
     ]
    }
   ],
   "source": [
    "print_result(25, 15)"
   ]
  },
  {
   "cell_type": "markdown",
   "metadata": {},
   "source": [
    "### Classes"
   ]
  },
  {
   "cell_type": "code",
   "execution_count": 37,
   "metadata": {},
   "outputs": [],
   "source": [
    "class Person:\n",
    "    \n",
    "    def __init__(self, first_name, last_name, age):\n",
    "        self.first_name = first_name\n",
    "        self.last_name = last_name\n",
    "        self.age = age\n",
    "        self.skills = []\n",
    "        self.workplace = None\n",
    "    \n",
    "    def add_skill(self, skill):\n",
    "        self.skills.append(skill)\n",
    "        \n",
    "    def set_workplace(self, workplace):\n",
    "        self.workplace = workplace"
   ]
  },
  {
   "cell_type": "code",
   "execution_count": 38,
   "metadata": {},
   "outputs": [
    {
     "name": "stdout",
     "output_type": "stream",
     "text": [
      "Monty\n",
      "None\n"
     ]
    }
   ],
   "source": [
    "# Opret en person\n",
    "person1 = Person(first_name='Monty', last_name='Python', age=24)\n",
    "\n",
    "print(person1.first_name)\n",
    "print(person1.workplace)"
   ]
  },
  {
   "cell_type": "code",
   "execution_count": 39,
   "metadata": {},
   "outputs": [
    {
     "name": "stdout",
     "output_type": "stream",
     "text": [
      "Prosa\n"
     ]
    }
   ],
   "source": [
    "# Opdater et object\n",
    "person1.set_workplace('Prosa')\n",
    "person1.add_skill('Knitting')\n",
    "\n",
    "print(person1.workplace)"
   ]
  },
  {
   "cell_type": "code",
   "execution_count": 40,
   "metadata": {},
   "outputs": [],
   "source": [
    "person2 = Person(first_name='Jens', last_name='Jensen', age=49)\n",
    "person3 = Person(first_name='Henning', last_name='Havørn', age=35)\n",
    "\n",
    "persons = [person1, person2, person3]\n",
    "\n",
    "for person in persons:\n",
    "    person.add_skill('Python programming')"
   ]
  },
  {
   "cell_type": "code",
   "execution_count": 41,
   "metadata": {},
   "outputs": [
    {
     "name": "stdout",
     "output_type": "stream",
     "text": [
      "['Knitting', 'Python programming']\n",
      "['Python programming']\n",
      "['Python programming']\n"
     ]
    }
   ],
   "source": [
    "print(person1.skills)\n",
    "print(person2.skills)\n",
    "print(person3.skills)"
   ]
  },
  {
   "cell_type": "markdown",
   "metadata": {},
   "source": [
    "### Bruge pakker fra Python community / Imports"
   ]
  },
  {
   "cell_type": "code",
   "execution_count": 42,
   "metadata": {},
   "outputs": [
    {
     "name": "stdout",
     "output_type": "stream",
     "text": [
      "2018-10-30\n"
     ]
    }
   ],
   "source": [
    "import datetime\n",
    "\n",
    "print(datetime.date.today())"
   ]
  },
  {
   "cell_type": "code",
   "execution_count": 43,
   "metadata": {},
   "outputs": [
    {
     "name": "stdout",
     "output_type": "stream",
     "text": [
      "2018-10-30\n"
     ]
    }
   ],
   "source": [
    "import datetime as dt\n",
    "\n",
    "print(dt.date.today())"
   ]
  },
  {
   "cell_type": "code",
   "execution_count": 44,
   "metadata": {},
   "outputs": [
    {
     "name": "stdout",
     "output_type": "stream",
     "text": [
      "2018-10-30\n"
     ]
    }
   ],
   "source": [
    "from datetime import date\n",
    "\n",
    "print(date.today())"
   ]
  },
  {
   "cell_type": "code",
   "execution_count": 45,
   "metadata": {},
   "outputs": [
    {
     "name": "stdout",
     "output_type": "stream",
     "text": [
      "Hello, PROSA!\n"
     ]
    }
   ],
   "source": [
    "import hello\n",
    "\n",
    "hello.hello_world()"
   ]
  },
  {
   "cell_type": "code",
   "execution_count": 46,
   "metadata": {},
   "outputs": [
    {
     "name": "stdout",
     "output_type": "stream",
     "text": [
      "\u001b[1m\u001b[40m\u001b[32m.___________. __    __   _______     _______   ______     _______           \n",
      "|           ||  |  |  | |   ____|   |       \\ /  __  \\   /  _____|          \n",
      "`---|  |----`|  |__|  | |  |__      |  .--.  |  |  |  | |  |  __            \n",
      "    |  |     |   __   | |   __|     |  |  |  |  |  |  | |  | |_ |           \n",
      "    |  |     |  |  |  | |  |____    |  '--'  |  `--'  | |  |__| |  __ __ __ \n",
      "    |__|     |__|  |__| |_______|   |_______/ \\______/   \\______| (__|__|__)\n",
      "                                                                            \n",
      "                    ___                                                     \n",
      "                   / _ \\                                                    \n",
      "                  | | | |                                                   \n",
      "                  | | | |                                                   \n",
      "                  | |_| |                                                   \n",
      "                   \\___/   ______ ______ ______ ______                      \n",
      "                          |______|______|______|______|                     \n",
      "                            __      __      __      __                       \n",
      "                           |  |    |  |    |  |    |  |                      \n",
      "                           |  |    |  |    |  |    |  |                      \n",
      "                           |  |    |  |    |  |    |  |                      \n",
      "                           |  |    |  |    |  |    |  |                      \n",
      "                           |  |    |  |    |  |    |  |                      \n",
      "                           |__|    |__|    |__|    |__|                      \n",
      "\u001b[0m\n"
     ]
    }
   ],
   "source": [
    "from termcolor import cprint \n",
    "from pyfiglet import figlet_format\n",
    "\n",
    "the_dog = '''the dog...\n",
    "      0____       \n",
    "         | | | |       '''\n",
    "cprint(figlet_format(the_dog, font='starwars'), 'green', 'on_grey', attrs=['bold'])"
   ]
  },
  {
   "cell_type": "code",
   "execution_count": 47,
   "metadata": {},
   "outputs": [
    {
     "ename": "SyntaxError",
     "evalue": "not a chance (<ipython-input-47-6d5c5b2f0daf>, line 1)",
     "output_type": "error",
     "traceback": [
      "\u001b[0;36m  File \u001b[0;32m\"<ipython-input-47-6d5c5b2f0daf>\"\u001b[0;36m, line \u001b[0;32m1\u001b[0m\n\u001b[0;31m    from __future__ import braces\u001b[0m\n\u001b[0m                                 ^\u001b[0m\n\u001b[0;31mSyntaxError\u001b[0m\u001b[0;31m:\u001b[0m not a chance\n"
     ]
    }
   ],
   "source": [
    "from __future__ import braces"
   ]
  },
  {
   "cell_type": "markdown",
   "metadata": {},
   "source": [
    "# Data"
   ]
  },
  {
   "cell_type": "markdown",
   "metadata": {},
   "source": [
    "#### Dataframes med Pandas"
   ]
  },
  {
   "cell_type": "code",
   "execution_count": 48,
   "metadata": {},
   "outputs": [
    {
     "data": {
      "text/html": [
       "<div>\n",
       "<style scoped>\n",
       "    .dataframe tbody tr th:only-of-type {\n",
       "        vertical-align: middle;\n",
       "    }\n",
       "\n",
       "    .dataframe tbody tr th {\n",
       "        vertical-align: top;\n",
       "    }\n",
       "\n",
       "    .dataframe thead th {\n",
       "        text-align: right;\n",
       "    }\n",
       "</style>\n",
       "<table border=\"1\" class=\"dataframe\">\n",
       "  <thead>\n",
       "    <tr style=\"text-align: right;\">\n",
       "      <th></th>\n",
       "      <th>Name</th>\n",
       "      <th>Age</th>\n",
       "    </tr>\n",
       "  </thead>\n",
       "  <tbody>\n",
       "    <tr>\n",
       "      <th>0</th>\n",
       "      <td>Monty Python</td>\n",
       "      <td>24</td>\n",
       "    </tr>\n",
       "    <tr>\n",
       "      <th>1</th>\n",
       "      <td>Jens Jensen</td>\n",
       "      <td>49</td>\n",
       "    </tr>\n",
       "    <tr>\n",
       "      <th>2</th>\n",
       "      <td>Henning Havørn</td>\n",
       "      <td>35</td>\n",
       "    </tr>\n",
       "  </tbody>\n",
       "</table>\n",
       "</div>"
      ],
      "text/plain": [
       "             Name  Age\n",
       "0    Monty Python   24\n",
       "1     Jens Jensen   49\n",
       "2  Henning Havørn   35"
      ]
     },
     "execution_count": 48,
     "metadata": {},
     "output_type": "execute_result"
    }
   ],
   "source": [
    "import pandas as pd\n",
    "\n",
    "temp = {'Name': ['Monty Python', 'Jens Jensen', 'Henning Havørn'], 'Age': [24, 49, 35]}\n",
    "\n",
    "df1 = pd.DataFrame(data=temp)\n",
    "\n",
    "df1"
   ]
  },
  {
   "cell_type": "code",
   "execution_count": 49,
   "metadata": {},
   "outputs": [
    {
     "data": {
      "text/plain": [
       "0      Monty Python\n",
       "1       Jens Jensen\n",
       "2    Henning Havørn\n",
       "Name: Name, dtype: object"
      ]
     },
     "execution_count": 49,
     "metadata": {},
     "output_type": "execute_result"
    }
   ],
   "source": [
    "df1['Name']"
   ]
  },
  {
   "cell_type": "code",
   "execution_count": 50,
   "metadata": {},
   "outputs": [
    {
     "data": {
      "text/html": [
       "<div>\n",
       "<style scoped>\n",
       "    .dataframe tbody tr th:only-of-type {\n",
       "        vertical-align: middle;\n",
       "    }\n",
       "\n",
       "    .dataframe tbody tr th {\n",
       "        vertical-align: top;\n",
       "    }\n",
       "\n",
       "    .dataframe thead th {\n",
       "        text-align: right;\n",
       "    }\n",
       "</style>\n",
       "<table border=\"1\" class=\"dataframe\">\n",
       "  <thead>\n",
       "    <tr style=\"text-align: right;\">\n",
       "      <th></th>\n",
       "      <th>Name</th>\n",
       "      <th>Age</th>\n",
       "    </tr>\n",
       "  </thead>\n",
       "  <tbody>\n",
       "    <tr>\n",
       "      <th>0</th>\n",
       "      <td>Monty Python</td>\n",
       "      <td>24</td>\n",
       "    </tr>\n",
       "    <tr>\n",
       "      <th>1</th>\n",
       "      <td>Jens Jensen</td>\n",
       "      <td>49</td>\n",
       "    </tr>\n",
       "  </tbody>\n",
       "</table>\n",
       "</div>"
      ],
      "text/plain": [
       "           Name  Age\n",
       "0  Monty Python   24\n",
       "1   Jens Jensen   49"
      ]
     },
     "execution_count": 50,
     "metadata": {},
     "output_type": "execute_result"
    }
   ],
   "source": [
    "df1.iloc[0:2]"
   ]
  },
  {
   "cell_type": "code",
   "execution_count": 51,
   "metadata": {},
   "outputs": [
    {
     "data": {
      "text/html": [
       "<div>\n",
       "<style scoped>\n",
       "    .dataframe tbody tr th:only-of-type {\n",
       "        vertical-align: middle;\n",
       "    }\n",
       "\n",
       "    .dataframe tbody tr th {\n",
       "        vertical-align: top;\n",
       "    }\n",
       "\n",
       "    .dataframe thead th {\n",
       "        text-align: right;\n",
       "    }\n",
       "</style>\n",
       "<table border=\"1\" class=\"dataframe\">\n",
       "  <thead>\n",
       "    <tr style=\"text-align: right;\">\n",
       "      <th></th>\n",
       "      <th>Name</th>\n",
       "      <th>Age</th>\n",
       "    </tr>\n",
       "  </thead>\n",
       "  <tbody>\n",
       "    <tr>\n",
       "      <th>1</th>\n",
       "      <td>Jens Jensen</td>\n",
       "      <td>49</td>\n",
       "    </tr>\n",
       "    <tr>\n",
       "      <th>2</th>\n",
       "      <td>Henning Havørn</td>\n",
       "      <td>35</td>\n",
       "    </tr>\n",
       "  </tbody>\n",
       "</table>\n",
       "</div>"
      ],
      "text/plain": [
       "             Name  Age\n",
       "1     Jens Jensen   49\n",
       "2  Henning Havørn   35"
      ]
     },
     "execution_count": 51,
     "metadata": {},
     "output_type": "execute_result"
    }
   ],
   "source": [
    "df1[df1['Age'] > 30]"
   ]
  },
  {
   "cell_type": "code",
   "execution_count": 52,
   "metadata": {},
   "outputs": [
    {
     "data": {
      "text/html": [
       "<div>\n",
       "<style scoped>\n",
       "    .dataframe tbody tr th:only-of-type {\n",
       "        vertical-align: middle;\n",
       "    }\n",
       "\n",
       "    .dataframe tbody tr th {\n",
       "        vertical-align: top;\n",
       "    }\n",
       "\n",
       "    .dataframe thead th {\n",
       "        text-align: right;\n",
       "    }\n",
       "</style>\n",
       "<table border=\"1\" class=\"dataframe\">\n",
       "  <thead>\n",
       "    <tr style=\"text-align: right;\">\n",
       "      <th></th>\n",
       "      <th>Name</th>\n",
       "      <th>Age</th>\n",
       "      <th>Age (squared)</th>\n",
       "    </tr>\n",
       "  </thead>\n",
       "  <tbody>\n",
       "    <tr>\n",
       "      <th>0</th>\n",
       "      <td>Monty Python</td>\n",
       "      <td>24</td>\n",
       "      <td>576</td>\n",
       "    </tr>\n",
       "    <tr>\n",
       "      <th>1</th>\n",
       "      <td>Jens Jensen</td>\n",
       "      <td>49</td>\n",
       "      <td>2401</td>\n",
       "    </tr>\n",
       "    <tr>\n",
       "      <th>2</th>\n",
       "      <td>Henning Havørn</td>\n",
       "      <td>35</td>\n",
       "      <td>1225</td>\n",
       "    </tr>\n",
       "  </tbody>\n",
       "</table>\n",
       "</div>"
      ],
      "text/plain": [
       "             Name  Age  Age (squared)\n",
       "0    Monty Python   24            576\n",
       "1     Jens Jensen   49           2401\n",
       "2  Henning Havørn   35           1225"
      ]
     },
     "execution_count": 52,
     "metadata": {},
     "output_type": "execute_result"
    }
   ],
   "source": [
    "df1['Age (squared)'] = df1['Age']**2\n",
    "\n",
    "df1"
   ]
  },
  {
   "cell_type": "code",
   "execution_count": 53,
   "metadata": {},
   "outputs": [
    {
     "data": {
      "text/html": [
       "<div>\n",
       "<style scoped>\n",
       "    .dataframe tbody tr th:only-of-type {\n",
       "        vertical-align: middle;\n",
       "    }\n",
       "\n",
       "    .dataframe tbody tr th {\n",
       "        vertical-align: top;\n",
       "    }\n",
       "\n",
       "    .dataframe thead th {\n",
       "        text-align: right;\n",
       "    }\n",
       "</style>\n",
       "<table border=\"1\" class=\"dataframe\">\n",
       "  <thead>\n",
       "    <tr style=\"text-align: right;\">\n",
       "      <th></th>\n",
       "      <th>Name</th>\n",
       "      <th>Is funny</th>\n",
       "    </tr>\n",
       "  </thead>\n",
       "  <tbody>\n",
       "    <tr>\n",
       "      <th>0</th>\n",
       "      <td>Monty Python</td>\n",
       "      <td>True</td>\n",
       "    </tr>\n",
       "    <tr>\n",
       "      <th>1</th>\n",
       "      <td>Jens Jensen</td>\n",
       "      <td>False</td>\n",
       "    </tr>\n",
       "    <tr>\n",
       "      <th>2</th>\n",
       "      <td>Henning Havørn</td>\n",
       "      <td>True</td>\n",
       "    </tr>\n",
       "    <tr>\n",
       "      <th>3</th>\n",
       "      <td>Martin Højland</td>\n",
       "      <td>False</td>\n",
       "    </tr>\n",
       "  </tbody>\n",
       "</table>\n",
       "</div>"
      ],
      "text/plain": [
       "             Name  Is funny\n",
       "0    Monty Python      True\n",
       "1     Jens Jensen     False\n",
       "2  Henning Havørn      True\n",
       "3  Martin Højland     False"
      ]
     },
     "execution_count": 53,
     "metadata": {},
     "output_type": "execute_result"
    }
   ],
   "source": [
    "temp = {'Name': ['Monty Python', 'Jens Jensen', 'Henning Havørn', 'Martin Højland'],\n",
    "        'Is funny': [True, False, True, False]}\n",
    "\n",
    "df2 = pd.DataFrame(data=temp)\n",
    "\n",
    "df2"
   ]
  },
  {
   "cell_type": "code",
   "execution_count": 54,
   "metadata": {},
   "outputs": [
    {
     "data": {
      "text/html": [
       "<div>\n",
       "<style scoped>\n",
       "    .dataframe tbody tr th:only-of-type {\n",
       "        vertical-align: middle;\n",
       "    }\n",
       "\n",
       "    .dataframe tbody tr th {\n",
       "        vertical-align: top;\n",
       "    }\n",
       "\n",
       "    .dataframe thead th {\n",
       "        text-align: right;\n",
       "    }\n",
       "</style>\n",
       "<table border=\"1\" class=\"dataframe\">\n",
       "  <thead>\n",
       "    <tr style=\"text-align: right;\">\n",
       "      <th></th>\n",
       "      <th>Name</th>\n",
       "      <th>Age</th>\n",
       "      <th>Age (squared)</th>\n",
       "      <th>Is funny</th>\n",
       "    </tr>\n",
       "  </thead>\n",
       "  <tbody>\n",
       "    <tr>\n",
       "      <th>0</th>\n",
       "      <td>Monty Python</td>\n",
       "      <td>24.0</td>\n",
       "      <td>576.0</td>\n",
       "      <td>True</td>\n",
       "    </tr>\n",
       "    <tr>\n",
       "      <th>1</th>\n",
       "      <td>Jens Jensen</td>\n",
       "      <td>49.0</td>\n",
       "      <td>2401.0</td>\n",
       "      <td>False</td>\n",
       "    </tr>\n",
       "    <tr>\n",
       "      <th>2</th>\n",
       "      <td>Henning Havørn</td>\n",
       "      <td>35.0</td>\n",
       "      <td>1225.0</td>\n",
       "      <td>True</td>\n",
       "    </tr>\n",
       "    <tr>\n",
       "      <th>3</th>\n",
       "      <td>Martin Højland</td>\n",
       "      <td>NaN</td>\n",
       "      <td>NaN</td>\n",
       "      <td>False</td>\n",
       "    </tr>\n",
       "  </tbody>\n",
       "</table>\n",
       "</div>"
      ],
      "text/plain": [
       "             Name   Age  Age (squared)  Is funny\n",
       "0    Monty Python  24.0          576.0      True\n",
       "1     Jens Jensen  49.0         2401.0     False\n",
       "2  Henning Havørn  35.0         1225.0      True\n",
       "3  Martin Højland   NaN            NaN     False"
      ]
     },
     "execution_count": 54,
     "metadata": {},
     "output_type": "execute_result"
    }
   ],
   "source": [
    "df3 = pd.merge(df1, df2, on='Name', how='right')\n",
    "\n",
    "df3"
   ]
  },
  {
   "cell_type": "code",
   "execution_count": 55,
   "metadata": {},
   "outputs": [
    {
     "data": {
      "text/html": [
       "<div>\n",
       "<style scoped>\n",
       "    .dataframe tbody tr th:only-of-type {\n",
       "        vertical-align: middle;\n",
       "    }\n",
       "\n",
       "    .dataframe tbody tr th {\n",
       "        vertical-align: top;\n",
       "    }\n",
       "\n",
       "    .dataframe thead th {\n",
       "        text-align: right;\n",
       "    }\n",
       "</style>\n",
       "<table border=\"1\" class=\"dataframe\">\n",
       "  <thead>\n",
       "    <tr style=\"text-align: right;\">\n",
       "      <th></th>\n",
       "      <th>Name</th>\n",
       "      <th>Age</th>\n",
       "      <th>Age (squared)</th>\n",
       "      <th>Is funny</th>\n",
       "    </tr>\n",
       "  </thead>\n",
       "  <tbody>\n",
       "    <tr>\n",
       "      <th>0</th>\n",
       "      <td>Monty Python</td>\n",
       "      <td>24.0</td>\n",
       "      <td>576.0</td>\n",
       "      <td>True</td>\n",
       "    </tr>\n",
       "    <tr>\n",
       "      <th>2</th>\n",
       "      <td>Henning Havørn</td>\n",
       "      <td>35.0</td>\n",
       "      <td>1225.0</td>\n",
       "      <td>True</td>\n",
       "    </tr>\n",
       "  </tbody>\n",
       "</table>\n",
       "</div>"
      ],
      "text/plain": [
       "             Name   Age  Age (squared)  Is funny\n",
       "0    Monty Python  24.0          576.0      True\n",
       "2  Henning Havørn  35.0         1225.0      True"
      ]
     },
     "execution_count": 55,
     "metadata": {},
     "output_type": "execute_result"
    }
   ],
   "source": [
    "df3[df3['Is funny'] == True]"
   ]
  },
  {
   "cell_type": "markdown",
   "metadata": {},
   "source": [
    "#### Vektorer og matricer med Numpy"
   ]
  },
  {
   "cell_type": "code",
   "execution_count": 56,
   "metadata": {},
   "outputs": [],
   "source": [
    "import numpy as np\n",
    "\n",
    "x = np.array([1, 2, 3])\n",
    "y = np.array([4, 5, 6])\n",
    "z = np.array([7, 8, 9])"
   ]
  },
  {
   "cell_type": "code",
   "execution_count": 57,
   "metadata": {},
   "outputs": [
    {
     "name": "stdout",
     "output_type": "stream",
     "text": [
      "[12 15 18]\n",
      "[10 20 30]\n",
      "[1 4 9]\n",
      "[ 4 10 18]\n"
     ]
    }
   ],
   "source": [
    "print(x + y + z)\n",
    "\n",
    "print(x * 10)\n",
    "\n",
    "print(x**2)\n",
    "\n",
    "print(x * y)"
   ]
  },
  {
   "cell_type": "code",
   "execution_count": 58,
   "metadata": {},
   "outputs": [
    {
     "name": "stdout",
     "output_type": "stream",
     "text": [
      "[[1 2 3]\n",
      " [4 5 6]\n",
      " [7 8 9]]\n",
      "[1 2 3 4 5 6 7 8 9]\n"
     ]
    }
   ],
   "source": [
    "X = np.array([x, y, z])\n",
    "\n",
    "print(X)\n",
    "\n",
    "print(X.flatten())"
   ]
  },
  {
   "cell_type": "code",
   "execution_count": 59,
   "metadata": {},
   "outputs": [
    {
     "data": {
      "text/plain": [
       "array([[ 30,  36,  42],\n",
       "       [ 66,  81,  96],\n",
       "       [102, 126, 150]])"
      ]
     },
     "execution_count": 59,
     "metadata": {},
     "output_type": "execute_result"
    }
   ],
   "source": [
    "# Matrix multiplication\n",
    "np.matmul(X, X)"
   ]
  },
  {
   "cell_type": "code",
   "execution_count": 60,
   "metadata": {},
   "outputs": [],
   "source": [
    "mu = 10\n",
    "sigma = 2\n",
    "\n",
    "# Let's simulate some data\n",
    "sample = np.random.normal(loc=mu, scale=sigma, size=5)"
   ]
  },
  {
   "cell_type": "code",
   "execution_count": 61,
   "metadata": {},
   "outputs": [
    {
     "name": "stdout",
     "output_type": "stream",
     "text": [
      "[12.79572243  9.20794726  9.89475942  6.9346787  10.62036034]\n",
      "[ 6.9346787   9.20794726  9.89475942 10.62036034 12.79572243]\n"
     ]
    }
   ],
   "source": [
    "print(sample)\n",
    "print(np.sort(sample))"
   ]
  },
  {
   "cell_type": "code",
   "execution_count": 62,
   "metadata": {},
   "outputs": [
    {
     "name": "stdout",
     "output_type": "stream",
     "text": [
      "[[0]\n",
      " [4]]\n"
     ]
    }
   ],
   "source": [
    "# Udvælge elementer i vektor med index og booleans\n",
    "print(np.argwhere(sample > mu))"
   ]
  },
  {
   "cell_type": "code",
   "execution_count": 63,
   "metadata": {},
   "outputs": [
    {
     "data": {
      "text/plain": [
       "array([[12.79572243],\n",
       "       [10.62036034]])"
      ]
     },
     "execution_count": 63,
     "metadata": {},
     "output_type": "execute_result"
    }
   ],
   "source": [
    "sample[np.argwhere(sample > mu)]"
   ]
  },
  {
   "cell_type": "markdown",
   "metadata": {},
   "source": [
    "### ØVELSER: ALT DET BASALE (15 min, 17:45 - 18:00)"
   ]
  },
  {
   "cell_type": "markdown",
   "metadata": {},
   "source": [
    "### PAUSE (30 min, 18:00 - 18:30)"
   ]
  },
  {
   "cell_type": "markdown",
   "metadata": {},
   "source": [
    "### DATA INDSAMLING (15 min, 18:30 - 18:45)"
   ]
  },
  {
   "cell_type": "markdown",
   "metadata": {},
   "source": [
    "##### Indlæsning af data (txt, csv, Stata, SAS, SPSS, osv.)"
   ]
  },
  {
   "cell_type": "code",
   "execution_count": 69,
   "metadata": {},
   "outputs": [],
   "source": [
    "df_demo = pd.read_csv('Data/df_demography.csv', sep=',', dtype={'cpr': str})\n",
    "df_code = pd.read_csv('Data/df_coding_skills.csv', sep=',', dtype={'cpr': str})\n",
    "df_pers = pd.read_csv('Data/df_personal_characteristic.csv', sep=',', dtype={'cpr': str})"
   ]
  },
  {
   "cell_type": "code",
   "execution_count": 70,
   "metadata": {},
   "outputs": [],
   "source": [
    "df_code.to_pickle('Data/df_coding_skills.pkl')"
   ]
  },
  {
   "cell_type": "code",
   "execution_count": 71,
   "metadata": {},
   "outputs": [],
   "source": [
    "df_code = pd.read_pickle('Data/df_coding_skills.pkl')"
   ]
  },
  {
   "cell_type": "markdown",
   "metadata": {},
   "source": [
    "## Databaser\n",
    "\n",
    "* PostgreSQL -> `psycopg2`\n",
    "* Elasticsearch -> `elasticsearch`\n",
    "* MongoDB -> `pymongo`\n",
    "* neo4j -> `py2neo` / `neo4j-driver`"
   ]
  },
  {
   "cell_type": "markdown",
   "metadata": {},
   "source": [
    "## API'er\n",
    "\n",
    "* Kalde api'er: `requests`, `urllib`\n",
    "* Bygge API'er selv: `flask`"
   ]
  },
  {
   "cell_type": "markdown",
   "metadata": {},
   "source": [
    "## Scrape data fra hjemmesider"
   ]
  },
  {
   "cell_type": "code",
   "execution_count": 72,
   "metadata": {},
   "outputs": [],
   "source": [
    "import requests\n",
    "from bs4 import BeautifulSoup\n",
    "\n",
    "url = 'https://www.prosa.dk/arrangementer/'\n",
    "response = requests.get(url)\n",
    "\n",
    "soup = BeautifulSoup(response.text, 'html.parser')"
   ]
  },
  {
   "cell_type": "code",
   "execution_count": 73,
   "metadata": {},
   "outputs": [],
   "source": [
    "events = []\n",
    "\n",
    "for link in soup.find_all('span'):\n",
    "    if link.text:\n",
    "        events.append(link.text)"
   ]
  },
  {
   "cell_type": "code",
   "execution_count": 74,
   "metadata": {},
   "outputs": [
    {
     "name": "stdout",
     "output_type": "stream",
     "text": [
      "Functional Copenhageners Meetup Group\n",
      "PiO - Prosa i Odense inviterer til workshop: Introduktion til SQL\n",
      "Aarhus: Introduktion til React\n",
      "Odense: Workshop i mental træning og mindfulness\n",
      "Wordpress for øvede 1\n",
      "Åben workshop for sociale iværksættere (EKSTERN)\n",
      "Kom godt i gang med Python\n",
      "Kooperativ erfagruppe\n",
      "Byg en selvkørende Arduino-robot\n",
      "Odense: Prototyping og wireframing\n",
      "Analytics-kursus – Få forretningskritisk indsigt, der kan øge dit forretningspotentiale\n",
      "Aarhus: Workshop om it-sikkerhed og lockpicking\n",
      "Eksternt: AI, dataetik og den personlige informationsøkonomi\n",
      "Aarhus: Vinsmagning\n",
      "Photoshop for øvede\n",
      "Tillidsrepræsentantens rolle i forhold til persondata\n",
      "Aarhus: Sådan træner du din Arduino\n",
      "Webinar: Microsoft Azure overblik og status\n",
      "Aarhus: Formøde til delegeretforsamlingen\n",
      "Coldfront Community Day\n",
      "Kooperativ erfagruppe\n",
      "Wordpress for øvede 2\n",
      "Forretningshemmeligheder - hvad betyder det for dig\n",
      "Odense: Kursus i præsentationsteknik\n",
      "Aflyst: GDPR/DPO-erfagruppe\n",
      "Byg en selvkørende Arduino-robot\n",
      "Aarhus: Brætspilsaften\n",
      "Rundvisning i Filmarkivet: Fra slidte filmruller til digital kulturformidling\n",
      "Agil projektledelse og SCRUM i it-projekter\n",
      "Aarhus: Virtual Reality Café\n",
      "Købmandskab for it-folk\n",
      "Odense: Suricata, Bro og DNS opsamling\n",
      "Functional Copenhageners Meetup Group\n",
      "Aarhus: Moderne avanceret React\n",
      "Seniorudvalget i Øst: Rundvisning på ARGO i Roskilde\n",
      "Få mere ud af (den tid du spilder) på sociale medier (29.11)\n",
      "Kooperativ erfagruppe\n",
      "GirlzNight: Få mere tid\n",
      "Byg en selvkørende Arduino-robot\n",
      "Odense: Brætspilsaften\n",
      "Wordpress for øvede 3\n",
      "Juleafslutning med Anders Kjærulff og \"it-året, der gik\"\n",
      "Webinar:  Amazon Web Services overblik og status\n",
      "Kooperativ erfagruppe\n",
      "Aflyst: GDPR/DPO-erfagruppe\n",
      "Byg en selvkørende Arduino-robot\n",
      "TR introduktion\n",
      "Odense: Hør om supercomputeren ABACUS på SDU\n",
      "Aarhus: Graduate Day\n",
      "TR introduktion\n",
      "Aarhus: Agil projektledelse og SCRUM i it-projekter\n",
      "Aarhus: Lær at håndtere feedback\n",
      "TR introduktion\n",
      "TR introduktion\n"
     ]
    }
   ],
   "source": [
    "for event in events:\n",
    "    print(event)"
   ]
  },
  {
   "cell_type": "markdown",
   "metadata": {},
   "source": [
    "# DATA ANALYSE (45 MIN, 18:45-19:30)"
   ]
  },
  {
   "cell_type": "markdown",
   "metadata": {},
   "source": [
    "### Merge data frames"
   ]
  },
  {
   "cell_type": "code",
   "execution_count": 75,
   "metadata": {},
   "outputs": [],
   "source": [
    "df = pd.merge(df_demo, df_code, on='cpr')\n",
    "df = pd.merge(df, df_pers, on='cpr')"
   ]
  },
  {
   "cell_type": "code",
   "execution_count": 76,
   "metadata": {},
   "outputs": [
    {
     "data": {
      "text/html": [
       "<div>\n",
       "<style scoped>\n",
       "    .dataframe tbody tr th:only-of-type {\n",
       "        vertical-align: middle;\n",
       "    }\n",
       "\n",
       "    .dataframe tbody tr th {\n",
       "        vertical-align: top;\n",
       "    }\n",
       "\n",
       "    .dataframe thead th {\n",
       "        text-align: right;\n",
       "    }\n",
       "</style>\n",
       "<table border=\"1\" class=\"dataframe\">\n",
       "  <thead>\n",
       "    <tr style=\"text-align: right;\">\n",
       "      <th></th>\n",
       "      <th>cpr</th>\n",
       "      <th>municipality</th>\n",
       "      <th>salary</th>\n",
       "      <th>kan_R</th>\n",
       "      <th>kan_python</th>\n",
       "      <th>height</th>\n",
       "      <th>weight</th>\n",
       "      <th>hair_len</th>\n",
       "    </tr>\n",
       "  </thead>\n",
       "  <tbody>\n",
       "    <tr>\n",
       "      <th>0</th>\n",
       "      <td>1203913055</td>\n",
       "      <td>Esbjerg</td>\n",
       "      <td>377218</td>\n",
       "      <td>False</td>\n",
       "      <td>False</td>\n",
       "      <td>1.80</td>\n",
       "      <td>82.1</td>\n",
       "      <td>7.5</td>\n",
       "    </tr>\n",
       "    <tr>\n",
       "      <th>1</th>\n",
       "      <td>1308952064</td>\n",
       "      <td>Sønderborg</td>\n",
       "      <td>286903</td>\n",
       "      <td>True</td>\n",
       "      <td>True</td>\n",
       "      <td>1.58</td>\n",
       "      <td>61.6</td>\n",
       "      <td>47.2</td>\n",
       "    </tr>\n",
       "    <tr>\n",
       "      <th>2</th>\n",
       "      <td>2410936634</td>\n",
       "      <td>Thisted</td>\n",
       "      <td>337835</td>\n",
       "      <td>True</td>\n",
       "      <td>False</td>\n",
       "      <td>1.66</td>\n",
       "      <td>73.7</td>\n",
       "      <td>28.4</td>\n",
       "    </tr>\n",
       "    <tr>\n",
       "      <th>3</th>\n",
       "      <td>1605952976</td>\n",
       "      <td>København</td>\n",
       "      <td>273928</td>\n",
       "      <td>False</td>\n",
       "      <td>True</td>\n",
       "      <td>1.71</td>\n",
       "      <td>74.2</td>\n",
       "      <td>46.8</td>\n",
       "    </tr>\n",
       "    <tr>\n",
       "      <th>4</th>\n",
       "      <td>2802942759</td>\n",
       "      <td>Silkeborg</td>\n",
       "      <td>318220</td>\n",
       "      <td>True</td>\n",
       "      <td>False</td>\n",
       "      <td>1.91</td>\n",
       "      <td>83.8</td>\n",
       "      <td>6.3</td>\n",
       "    </tr>\n",
       "    <tr>\n",
       "      <th>5</th>\n",
       "      <td>2007903527</td>\n",
       "      <td>Syddjurs</td>\n",
       "      <td>325773</td>\n",
       "      <td>False</td>\n",
       "      <td>True</td>\n",
       "      <td>1.75</td>\n",
       "      <td>84.7</td>\n",
       "      <td>2.0</td>\n",
       "    </tr>\n",
       "    <tr>\n",
       "      <th>6</th>\n",
       "      <td>2406877802</td>\n",
       "      <td>Horsens</td>\n",
       "      <td>327235</td>\n",
       "      <td>False</td>\n",
       "      <td>False</td>\n",
       "      <td>1.92</td>\n",
       "      <td>61.9</td>\n",
       "      <td>26.0</td>\n",
       "    </tr>\n",
       "    <tr>\n",
       "      <th>7</th>\n",
       "      <td>1002624535</td>\n",
       "      <td>Dragør</td>\n",
       "      <td>689159</td>\n",
       "      <td>False</td>\n",
       "      <td>True</td>\n",
       "      <td>1.74</td>\n",
       "      <td>88.8</td>\n",
       "      <td>5.1</td>\n",
       "    </tr>\n",
       "    <tr>\n",
       "      <th>8</th>\n",
       "      <td>0312717659</td>\n",
       "      <td>Hvidovre</td>\n",
       "      <td>544341</td>\n",
       "      <td>False</td>\n",
       "      <td>False</td>\n",
       "      <td>1.67</td>\n",
       "      <td>88.6</td>\n",
       "      <td>4.4</td>\n",
       "    </tr>\n",
       "    <tr>\n",
       "      <th>9</th>\n",
       "      <td>1508663376</td>\n",
       "      <td>Herning</td>\n",
       "      <td>554418</td>\n",
       "      <td>False</td>\n",
       "      <td>True</td>\n",
       "      <td>1.75</td>\n",
       "      <td>72.1</td>\n",
       "      <td>32.6</td>\n",
       "    </tr>\n",
       "  </tbody>\n",
       "</table>\n",
       "</div>"
      ],
      "text/plain": [
       "          cpr municipality  salary  kan_R  kan_python  height  weight  \\\n",
       "0  1203913055      Esbjerg  377218  False       False    1.80    82.1   \n",
       "1  1308952064   Sønderborg  286903   True        True    1.58    61.6   \n",
       "2  2410936634      Thisted  337835   True       False    1.66    73.7   \n",
       "3  1605952976    København  273928  False        True    1.71    74.2   \n",
       "4  2802942759    Silkeborg  318220   True       False    1.91    83.8   \n",
       "5  2007903527     Syddjurs  325773  False        True    1.75    84.7   \n",
       "6  2406877802      Horsens  327235  False       False    1.92    61.9   \n",
       "7  1002624535       Dragør  689159  False        True    1.74    88.8   \n",
       "8  0312717659     Hvidovre  544341  False       False    1.67    88.6   \n",
       "9  1508663376      Herning  554418  False        True    1.75    72.1   \n",
       "\n",
       "   hair_len  \n",
       "0       7.5  \n",
       "1      47.2  \n",
       "2      28.4  \n",
       "3      46.8  \n",
       "4       6.3  \n",
       "5       2.0  \n",
       "6      26.0  \n",
       "7       5.1  \n",
       "8       4.4  \n",
       "9      32.6  "
      ]
     },
     "execution_count": 76,
     "metadata": {},
     "output_type": "execute_result"
    }
   ],
   "source": [
    "df.iloc[:10]"
   ]
  },
  {
   "cell_type": "markdown",
   "metadata": {},
   "source": [
    "### Feature engineering"
   ]
  },
  {
   "cell_type": "code",
   "execution_count": 77,
   "metadata": {},
   "outputs": [],
   "source": [
    "df['gender'] = df['cpr'].str[9].apply(int)\n",
    "df['gender'] = np.where(df['gender'] % 2 == 0, 'woman', 'man')"
   ]
  },
  {
   "cell_type": "code",
   "execution_count": 78,
   "metadata": {},
   "outputs": [
    {
     "data": {
      "text/html": [
       "<div>\n",
       "<style scoped>\n",
       "    .dataframe tbody tr th:only-of-type {\n",
       "        vertical-align: middle;\n",
       "    }\n",
       "\n",
       "    .dataframe tbody tr th {\n",
       "        vertical-align: top;\n",
       "    }\n",
       "\n",
       "    .dataframe thead th {\n",
       "        text-align: right;\n",
       "    }\n",
       "</style>\n",
       "<table border=\"1\" class=\"dataframe\">\n",
       "  <thead>\n",
       "    <tr style=\"text-align: right;\">\n",
       "      <th></th>\n",
       "      <th>cpr</th>\n",
       "      <th>municipality</th>\n",
       "      <th>salary</th>\n",
       "      <th>kan_R</th>\n",
       "      <th>kan_python</th>\n",
       "      <th>height</th>\n",
       "      <th>weight</th>\n",
       "      <th>hair_len</th>\n",
       "      <th>gender</th>\n",
       "    </tr>\n",
       "  </thead>\n",
       "  <tbody>\n",
       "    <tr>\n",
       "      <th>0</th>\n",
       "      <td>1203913055</td>\n",
       "      <td>Esbjerg</td>\n",
       "      <td>377218</td>\n",
       "      <td>False</td>\n",
       "      <td>False</td>\n",
       "      <td>1.80</td>\n",
       "      <td>82.1</td>\n",
       "      <td>7.5</td>\n",
       "      <td>man</td>\n",
       "    </tr>\n",
       "    <tr>\n",
       "      <th>1</th>\n",
       "      <td>1308952064</td>\n",
       "      <td>Sønderborg</td>\n",
       "      <td>286903</td>\n",
       "      <td>True</td>\n",
       "      <td>True</td>\n",
       "      <td>1.58</td>\n",
       "      <td>61.6</td>\n",
       "      <td>47.2</td>\n",
       "      <td>woman</td>\n",
       "    </tr>\n",
       "    <tr>\n",
       "      <th>2</th>\n",
       "      <td>2410936634</td>\n",
       "      <td>Thisted</td>\n",
       "      <td>337835</td>\n",
       "      <td>True</td>\n",
       "      <td>False</td>\n",
       "      <td>1.66</td>\n",
       "      <td>73.7</td>\n",
       "      <td>28.4</td>\n",
       "      <td>woman</td>\n",
       "    </tr>\n",
       "    <tr>\n",
       "      <th>3</th>\n",
       "      <td>1605952976</td>\n",
       "      <td>København</td>\n",
       "      <td>273928</td>\n",
       "      <td>False</td>\n",
       "      <td>True</td>\n",
       "      <td>1.71</td>\n",
       "      <td>74.2</td>\n",
       "      <td>46.8</td>\n",
       "      <td>woman</td>\n",
       "    </tr>\n",
       "    <tr>\n",
       "      <th>4</th>\n",
       "      <td>2802942759</td>\n",
       "      <td>Silkeborg</td>\n",
       "      <td>318220</td>\n",
       "      <td>True</td>\n",
       "      <td>False</td>\n",
       "      <td>1.91</td>\n",
       "      <td>83.8</td>\n",
       "      <td>6.3</td>\n",
       "      <td>man</td>\n",
       "    </tr>\n",
       "  </tbody>\n",
       "</table>\n",
       "</div>"
      ],
      "text/plain": [
       "          cpr municipality  salary  kan_R  kan_python  height  weight  \\\n",
       "0  1203913055      Esbjerg  377218  False       False    1.80    82.1   \n",
       "1  1308952064   Sønderborg  286903   True        True    1.58    61.6   \n",
       "2  2410936634      Thisted  337835   True       False    1.66    73.7   \n",
       "3  1605952976    København  273928  False        True    1.71    74.2   \n",
       "4  2802942759    Silkeborg  318220   True       False    1.91    83.8   \n",
       "\n",
       "   hair_len gender  \n",
       "0       7.5    man  \n",
       "1      47.2  woman  \n",
       "2      28.4  woman  \n",
       "3      46.8  woman  \n",
       "4       6.3    man  "
      ]
     },
     "execution_count": 78,
     "metadata": {},
     "output_type": "execute_result"
    }
   ],
   "source": [
    "df.head(5)"
   ]
  },
  {
   "cell_type": "code",
   "execution_count": 79,
   "metadata": {},
   "outputs": [],
   "source": [
    "df['year'] = df['cpr'].str[4:6]\n",
    "df['year'] = '19' + df['year']"
   ]
  },
  {
   "cell_type": "code",
   "execution_count": 80,
   "metadata": {},
   "outputs": [],
   "source": [
    "df['month'] = df['cpr'].str[2:4]"
   ]
  },
  {
   "cell_type": "code",
   "execution_count": 81,
   "metadata": {},
   "outputs": [],
   "source": [
    "df['day'] = df['cpr'].str[0:2]"
   ]
  },
  {
   "cell_type": "code",
   "execution_count": 82,
   "metadata": {},
   "outputs": [],
   "source": [
    "df['birthday'] = pd.to_datetime(df['day'] + df['month'] + df['year'], format='%d%m%Y')"
   ]
  },
  {
   "cell_type": "code",
   "execution_count": 83,
   "metadata": {},
   "outputs": [
    {
     "data": {
      "text/html": [
       "<div>\n",
       "<style scoped>\n",
       "    .dataframe tbody tr th:only-of-type {\n",
       "        vertical-align: middle;\n",
       "    }\n",
       "\n",
       "    .dataframe tbody tr th {\n",
       "        vertical-align: top;\n",
       "    }\n",
       "\n",
       "    .dataframe thead th {\n",
       "        text-align: right;\n",
       "    }\n",
       "</style>\n",
       "<table border=\"1\" class=\"dataframe\">\n",
       "  <thead>\n",
       "    <tr style=\"text-align: right;\">\n",
       "      <th></th>\n",
       "      <th>cpr</th>\n",
       "      <th>municipality</th>\n",
       "      <th>salary</th>\n",
       "      <th>kan_R</th>\n",
       "      <th>kan_python</th>\n",
       "      <th>height</th>\n",
       "      <th>weight</th>\n",
       "      <th>hair_len</th>\n",
       "      <th>gender</th>\n",
       "      <th>year</th>\n",
       "      <th>month</th>\n",
       "      <th>day</th>\n",
       "      <th>birthday</th>\n",
       "    </tr>\n",
       "  </thead>\n",
       "  <tbody>\n",
       "    <tr>\n",
       "      <th>0</th>\n",
       "      <td>1203913055</td>\n",
       "      <td>Esbjerg</td>\n",
       "      <td>377218</td>\n",
       "      <td>False</td>\n",
       "      <td>False</td>\n",
       "      <td>1.80</td>\n",
       "      <td>82.1</td>\n",
       "      <td>7.5</td>\n",
       "      <td>man</td>\n",
       "      <td>1991</td>\n",
       "      <td>03</td>\n",
       "      <td>12</td>\n",
       "      <td>1991-03-12</td>\n",
       "    </tr>\n",
       "    <tr>\n",
       "      <th>1</th>\n",
       "      <td>1308952064</td>\n",
       "      <td>Sønderborg</td>\n",
       "      <td>286903</td>\n",
       "      <td>True</td>\n",
       "      <td>True</td>\n",
       "      <td>1.58</td>\n",
       "      <td>61.6</td>\n",
       "      <td>47.2</td>\n",
       "      <td>woman</td>\n",
       "      <td>1995</td>\n",
       "      <td>08</td>\n",
       "      <td>13</td>\n",
       "      <td>1995-08-13</td>\n",
       "    </tr>\n",
       "  </tbody>\n",
       "</table>\n",
       "</div>"
      ],
      "text/plain": [
       "          cpr municipality  salary  kan_R  kan_python  height  weight  \\\n",
       "0  1203913055      Esbjerg  377218  False       False    1.80    82.1   \n",
       "1  1308952064   Sønderborg  286903   True        True    1.58    61.6   \n",
       "\n",
       "   hair_len gender  year month day   birthday  \n",
       "0       7.5    man  1991    03  12 1991-03-12  \n",
       "1      47.2  woman  1995    08  13 1995-08-13  "
      ]
     },
     "execution_count": 83,
     "metadata": {},
     "output_type": "execute_result"
    }
   ],
   "source": [
    "df.head(2)"
   ]
  },
  {
   "cell_type": "code",
   "execution_count": 84,
   "metadata": {},
   "outputs": [],
   "source": [
    "now = pd.Timestamp(dt.datetime.now())\n",
    "df['age'] = (now - df['birthday'])\n",
    "df['age'] = df['age'].astype('<m8[Y]')"
   ]
  },
  {
   "cell_type": "code",
   "execution_count": 85,
   "metadata": {},
   "outputs": [
    {
     "data": {
      "text/html": [
       "<div>\n",
       "<style scoped>\n",
       "    .dataframe tbody tr th:only-of-type {\n",
       "        vertical-align: middle;\n",
       "    }\n",
       "\n",
       "    .dataframe tbody tr th {\n",
       "        vertical-align: top;\n",
       "    }\n",
       "\n",
       "    .dataframe thead th {\n",
       "        text-align: right;\n",
       "    }\n",
       "</style>\n",
       "<table border=\"1\" class=\"dataframe\">\n",
       "  <thead>\n",
       "    <tr style=\"text-align: right;\">\n",
       "      <th></th>\n",
       "      <th>cpr</th>\n",
       "      <th>municipality</th>\n",
       "      <th>salary</th>\n",
       "      <th>kan_R</th>\n",
       "      <th>kan_python</th>\n",
       "      <th>height</th>\n",
       "      <th>weight</th>\n",
       "      <th>hair_len</th>\n",
       "      <th>gender</th>\n",
       "      <th>year</th>\n",
       "      <th>month</th>\n",
       "      <th>day</th>\n",
       "      <th>birthday</th>\n",
       "      <th>age</th>\n",
       "    </tr>\n",
       "  </thead>\n",
       "  <tbody>\n",
       "    <tr>\n",
       "      <th>0</th>\n",
       "      <td>1203913055</td>\n",
       "      <td>Esbjerg</td>\n",
       "      <td>377218</td>\n",
       "      <td>False</td>\n",
       "      <td>False</td>\n",
       "      <td>1.80</td>\n",
       "      <td>82.1</td>\n",
       "      <td>7.5</td>\n",
       "      <td>man</td>\n",
       "      <td>1991</td>\n",
       "      <td>03</td>\n",
       "      <td>12</td>\n",
       "      <td>1991-03-12</td>\n",
       "      <td>27.0</td>\n",
       "    </tr>\n",
       "    <tr>\n",
       "      <th>1</th>\n",
       "      <td>1308952064</td>\n",
       "      <td>Sønderborg</td>\n",
       "      <td>286903</td>\n",
       "      <td>True</td>\n",
       "      <td>True</td>\n",
       "      <td>1.58</td>\n",
       "      <td>61.6</td>\n",
       "      <td>47.2</td>\n",
       "      <td>woman</td>\n",
       "      <td>1995</td>\n",
       "      <td>08</td>\n",
       "      <td>13</td>\n",
       "      <td>1995-08-13</td>\n",
       "      <td>23.0</td>\n",
       "    </tr>\n",
       "    <tr>\n",
       "      <th>2</th>\n",
       "      <td>2410936634</td>\n",
       "      <td>Thisted</td>\n",
       "      <td>337835</td>\n",
       "      <td>True</td>\n",
       "      <td>False</td>\n",
       "      <td>1.66</td>\n",
       "      <td>73.7</td>\n",
       "      <td>28.4</td>\n",
       "      <td>woman</td>\n",
       "      <td>1993</td>\n",
       "      <td>10</td>\n",
       "      <td>24</td>\n",
       "      <td>1993-10-24</td>\n",
       "      <td>25.0</td>\n",
       "    </tr>\n",
       "    <tr>\n",
       "      <th>3</th>\n",
       "      <td>1605952976</td>\n",
       "      <td>København</td>\n",
       "      <td>273928</td>\n",
       "      <td>False</td>\n",
       "      <td>True</td>\n",
       "      <td>1.71</td>\n",
       "      <td>74.2</td>\n",
       "      <td>46.8</td>\n",
       "      <td>woman</td>\n",
       "      <td>1995</td>\n",
       "      <td>05</td>\n",
       "      <td>16</td>\n",
       "      <td>1995-05-16</td>\n",
       "      <td>23.0</td>\n",
       "    </tr>\n",
       "    <tr>\n",
       "      <th>4</th>\n",
       "      <td>2802942759</td>\n",
       "      <td>Silkeborg</td>\n",
       "      <td>318220</td>\n",
       "      <td>True</td>\n",
       "      <td>False</td>\n",
       "      <td>1.91</td>\n",
       "      <td>83.8</td>\n",
       "      <td>6.3</td>\n",
       "      <td>man</td>\n",
       "      <td>1994</td>\n",
       "      <td>02</td>\n",
       "      <td>28</td>\n",
       "      <td>1994-02-28</td>\n",
       "      <td>24.0</td>\n",
       "    </tr>\n",
       "  </tbody>\n",
       "</table>\n",
       "</div>"
      ],
      "text/plain": [
       "          cpr municipality  salary  kan_R  kan_python  height  weight  \\\n",
       "0  1203913055      Esbjerg  377218  False       False    1.80    82.1   \n",
       "1  1308952064   Sønderborg  286903   True        True    1.58    61.6   \n",
       "2  2410936634      Thisted  337835   True       False    1.66    73.7   \n",
       "3  1605952976    København  273928  False        True    1.71    74.2   \n",
       "4  2802942759    Silkeborg  318220   True       False    1.91    83.8   \n",
       "\n",
       "   hair_len gender  year month day   birthday   age  \n",
       "0       7.5    man  1991    03  12 1991-03-12  27.0  \n",
       "1      47.2  woman  1995    08  13 1995-08-13  23.0  \n",
       "2      28.4  woman  1993    10  24 1993-10-24  25.0  \n",
       "3      46.8  woman  1995    05  16 1995-05-16  23.0  \n",
       "4       6.3    man  1994    02  28 1994-02-28  24.0  "
      ]
     },
     "execution_count": 85,
     "metadata": {},
     "output_type": "execute_result"
    }
   ],
   "source": [
    "df.iloc[:5]"
   ]
  },
  {
   "cell_type": "markdown",
   "metadata": {},
   "source": [
    "### Lineær regression"
   ]
  },
  {
   "cell_type": "code",
   "execution_count": 86,
   "metadata": {},
   "outputs": [],
   "source": [
    "x = df['weight'].values\n",
    "y = df['height'].values"
   ]
  },
  {
   "cell_type": "code",
   "execution_count": 87,
   "metadata": {},
   "outputs": [],
   "source": [
    "from scipy import stats\n",
    "\n",
    "slope, intercept, r_value, p_value, std_err = stats.linregress(x, y)"
   ]
  },
  {
   "cell_type": "code",
   "execution_count": 88,
   "metadata": {},
   "outputs": [
    {
     "name": "stdout",
     "output_type": "stream",
     "text": [
      "slope 0.006020540795779655 intercept 1.278069228837355 r_value 0.5142418390711201 p_value 0.0 std_err 0.00011394756237905625\n"
     ]
    }
   ],
   "source": [
    "print('slope', slope, 'intercept', intercept, 'r_value', r_value, 'p_value', p_value, 'std_err', std_err, )"
   ]
  },
  {
   "cell_type": "code",
   "execution_count": 89,
   "metadata": {},
   "outputs": [
    {
     "name": "stdout",
     "output_type": "stream",
     "text": [
      "For hver kg du stiger i vægt, stiger du typisk 0.6 cm i højde\n"
     ]
    }
   ],
   "source": [
    "print('For hver kg du stiger i vægt, stiger du typisk {:.1f} cm i højde'.format(slope * 100))"
   ]
  },
  {
   "cell_type": "markdown",
   "metadata": {},
   "source": [
    "### Supervised learning (Logistisk regression med Scikit-learn)"
   ]
  },
  {
   "cell_type": "code",
   "execution_count": 112,
   "metadata": {},
   "outputs": [],
   "source": [
    "from sklearn.linear_model import LogisticRegression\n",
    "from sklearn.model_selection import train_test_split\n",
    "from sklearn.metrics import confusion_matrix, accuracy_score"
   ]
  },
  {
   "cell_type": "code",
   "execution_count": 113,
   "metadata": {},
   "outputs": [],
   "source": [
    "X = df[['weight', 'height']].values\n",
    "y = df['gender'].values\n",
    "\n",
    "X_train, X_test, y_train, y_test = train_test_split(X, y, test_size=0.2)"
   ]
  },
  {
   "cell_type": "code",
   "execution_count": 114,
   "metadata": {},
   "outputs": [
    {
     "name": "stdout",
     "output_type": "stream",
     "text": [
      "[[-0.32130301 -1.29923859]]\n",
      "[27.22236275]\n"
     ]
    }
   ],
   "source": [
    "log_reg = LogisticRegression()\n",
    "log_reg.fit(X_train, y_train)\n",
    "\n",
    "print(log_reg.coef_)\n",
    "print(log_reg.intercept_)"
   ]
  },
  {
   "cell_type": "code",
   "execution_count": 115,
   "metadata": {},
   "outputs": [
    {
     "name": "stdout",
     "output_type": "stream",
     "text": [
      "[[760  26]\n",
      " [ 27 741]]\n",
      "0.9658944658944659\n",
      "0.9658944658944659\n"
     ]
    }
   ],
   "source": [
    "y_pred = log_reg.predict(X_test)\n",
    "\n",
    "print(confusion_matrix(y_test, y_pred))\n",
    "print(accuracy_score(y_test, y_pred))\n",
    "print(sum(y_test == y_pred) / len(y_test))"
   ]
  },
  {
   "cell_type": "markdown",
   "metadata": {},
   "source": [
    "### Unsupervised learning (Kmeans med Scikit-learn)"
   ]
  },
  {
   "cell_type": "code",
   "execution_count": 116,
   "metadata": {},
   "outputs": [],
   "source": [
    "from sklearn.cluster import KMeans"
   ]
  },
  {
   "cell_type": "code",
   "execution_count": 117,
   "metadata": {},
   "outputs": [
    {
     "name": "stdout",
     "output_type": "stream",
     "text": [
      "[86.53333333  1.80856634]\n",
      "[69.36695485  1.68520653]\n"
     ]
    }
   ],
   "source": [
    "kmeans = KMeans(n_clusters=2)\n",
    "kmeans.fit(X_train)\n",
    "\n",
    "print(kmeans.cluster_centers_[0])\n",
    "print(kmeans.cluster_centers_[1])"
   ]
  },
  {
   "cell_type": "code",
   "execution_count": 118,
   "metadata": {},
   "outputs": [
    {
     "name": "stdout",
     "output_type": "stream",
     "text": [
      "height     86.533333\n",
      "weight      1.808566\n",
      "cluster     0.000000\n",
      "dtype: float64\n",
      "height     69.366955\n",
      "weight      1.685207\n",
      "cluster     1.000000\n",
      "dtype: float64\n"
     ]
    }
   ],
   "source": [
    "df_cluster = pd.DataFrame()\n",
    "df_cluster['height'] = X_train[:, 0]\n",
    "df_cluster['weight'] = X_train[:, 1]\n",
    "df_cluster['cluster'] = kmeans.labels_\n",
    "\n",
    "print(df_cluster[df_cluster['cluster'] == 0].mean())\n",
    "\n",
    "print(df_cluster[df_cluster['cluster'] == 1].mean())"
   ]
  },
  {
   "cell_type": "code",
   "execution_count": 119,
   "metadata": {},
   "outputs": [],
   "source": [
    "# Kunne de to cluster være børn/voksne? Mænd/kvinder? Hunde/Heste?"
   ]
  },
  {
   "cell_type": "code",
   "execution_count": 120,
   "metadata": {},
   "outputs": [
    {
     "name": "stdout",
     "output_type": "stream",
     "text": [
      "[1 1 1 ... 0 0 1]\n",
      "[False False False ...  True  True False]\n",
      "0.039253539253539256\n"
     ]
    }
   ],
   "source": [
    "cluster_pred = kmeans.predict(X_test)\n",
    "print(cluster_pred)\n",
    "\n",
    "cluster_labels = y_test == 'man' #man/woman\n",
    "print(cluster_labels)\n",
    "\n",
    "print(accuracy_score(cluster_labels, cluster_pred))"
   ]
  },
  {
   "cell_type": "markdown",
   "metadata": {},
   "source": [
    "### DATA VISUALISERING (15 min, 19:30 - 19:45)"
   ]
  },
  {
   "cell_type": "markdown",
   "metadata": {},
   "source": [
    "##### Visualisering med Matplotlib"
   ]
  },
  {
   "cell_type": "code",
   "execution_count": 121,
   "metadata": {},
   "outputs": [],
   "source": [
    "N = 1500\n",
    "df_gender = df[df['gender'] == 'man']\n",
    "\n",
    "heights = df_gender['height'].values\n",
    "heights = np.random.choice(heights, size=N)\n",
    "\n",
    "weights = df_gender['weight'].values\n",
    "weights = np.random.choice(weights, size=N)\n",
    "\n",
    "slope, intercept, r_value, p_value, std_err = stats.linregress(weights, heights)"
   ]
  },
  {
   "cell_type": "code",
   "execution_count": 122,
   "metadata": {},
   "outputs": [
    {
     "data": {
      "image/png": "[encoded data removed]",
      "text/plain": [
       "<Figure size 504x504 with 1 Axes>"
      ]
     },
     "metadata": {},
     "output_type": "display_data"
    }
   ],
   "source": [
    "import matplotlib.pyplot as plt\n",
    "\n",
    "plt.figure(figsize=(7,7))\n",
    "plt.plot(weights, heights, 'b.', weights, slope * weights + intercept, 'r-')\n",
    "plt.axis([40, 110, 1.4, 2.2])\n",
    "plt.xlabel('weight')\n",
    "plt.ylabel('height')\n",
    "plt.title('Hvordan er data fordelt?')\n",
    "plt.show()"
   ]
  },
  {
   "cell_type": "markdown",
   "metadata": {},
   "source": [
    "##### Scatter plot"
   ]
  },
  {
   "cell_type": "code",
   "execution_count": 123,
   "metadata": {},
   "outputs": [],
   "source": [
    "kmeans = KMeans(n_clusters=2)\n",
    "kmeans.fit(X)\n",
    "\n",
    "df['cluster'] = kmeans.labels_\n",
    "\n",
    "#df.plot.scatter(x='height', y='weight')"
   ]
  },
  {
   "cell_type": "code",
   "execution_count": 124,
   "metadata": {},
   "outputs": [],
   "source": [
    "weights = df['weight'].values\n",
    "heights = df['height'].values\n",
    "\n",
    "color_true = np.where(df['gender'] == 'man', 'b', 'r')\n",
    "color_pred = np.where(df['cluster'] == 1, 'b', 'r')"
   ]
  },
  {
   "cell_type": "code",
   "execution_count": 125,
   "metadata": {},
   "outputs": [
    {
     "data": {
      "image/png": "[encoded data removed]",
      "text/plain": [
       "<Figure size 1008x504 with 1 Axes>"
      ]
     },
     "metadata": {},
     "output_type": "display_data"
    }
   ],
   "source": [
    "plt.figure(figsize=(14,7))\n",
    "\n",
    "plt.scatter(weights, heights, c=color_true, marker='.')\n",
    "plt.axis([40, 110, 1.4, 2.2])\n",
    "plt.xlabel('weight in kg')\n",
    "plt.ylabel('height in meters')\n",
    "plt.title('K-means clustering')\n",
    "plt.show()"
   ]
  },
  {
   "cell_type": "code",
   "execution_count": 136,
   "metadata": {},
   "outputs": [
    {
     "data": {
      "text/plain": [
       "array([69.3021293 , 86.56112691])"
      ]
     },
     "execution_count": 136,
     "metadata": {},
     "output_type": "execute_result"
    }
   ],
   "source": [
    "kmeans.cluster_centers_[:,0]"
   ]
  },
  {
   "cell_type": "code",
   "execution_count": 145,
   "metadata": {},
   "outputs": [
    {
     "data": {
      "image/png": "[encoded data removed]",
      "text/plain": [
       "<Figure size 1008x504 with 1 Axes>"
      ]
     },
     "metadata": {},
     "output_type": "display_data"
    }
   ],
   "source": [
    "plt.figure(figsize=(14,7))\n",
    "\n",
    "plt.scatter(weights, heights, c=color_pred, marker='.')\n",
    "plt.plot(kmeans.cluster_centers_[:,0], kmeans.cluster_centers_[:,1], 'kX', markersize=20)\n",
    "plt.axis([40, 110, 1.4, 2.2])\n",
    "plt.xlabel('weight in kg')\n",
    "plt.ylabel('height in meters')\n",
    "plt.title('K-means clustering')\n",
    "plt.show()"
   ]
  },
  {
   "cell_type": "markdown",
   "metadata": {},
   "source": [
    "##### Bar plot"
   ]
  },
  {
   "cell_type": "code",
   "execution_count": 110,
   "metadata": {},
   "outputs": [],
   "source": [
    "# Gns højde og vægt for mænd og kvinder"
   ]
  },
  {
   "cell_type": "markdown",
   "metadata": {},
   "source": [
    "### TWITTER DATA (15 MIN, 19:45-20:00)"
   ]
  },
  {
   "cell_type": "code",
   "execution_count": 111,
   "metadata": {},
   "outputs": [
    {
     "name": "stdout",
     "output_type": "stream",
     "text": [
      "<twitter.api.Twitter object at 0x129c5f7f0>\n"
     ]
    }
   ],
   "source": [
    "import twitter\n",
    "\n",
    "CONSUMER_KEY = 'GPAzAQ5XsSFrsSUNorLQ12sN8'\n",
    "CONSUMER_SECRET = 'TJ0du2yXVZvQd65ZBLUpZMuvRzNqgNe6IriTtIJ8iq4LQC23oY'\n",
    "OAUTH_TOKEN = '770960920939986945-N9XOcS38M6p90Or5ckEWcQpw5vYqHTD'\n",
    "OAUTH_TOKEN_SECRET = 'zFUGw1EdGSmCqrwkFuhE5HNLekUOGNzQpeLlEyfxS663t'\n",
    "\n",
    "auth = twitter.oauth.OAuth(OAUTH_TOKEN, OAUTH_TOKEN_SECRET, CONSUMER_KEY, CONSUMER_SECRET)\n",
    "\n",
    "twitter_api = twitter.Twitter(domain='api.twitter.com', api_version='1.1', auth=auth)\n",
    "\n",
    "# Print twitter_api to test if there is an authorized twitter_api as expected\n",
    "print(twitter_api)"
   ]
  },
  {
   "cell_type": "code",
   "execution_count": 112,
   "metadata": {},
   "outputs": [],
   "source": [
    "# The Yahoo! Where On Earth ID for the entire world is 1\n",
    "# The Yahoo! Where On Earth ID for the US is 23424977\n",
    "# The Yahoo! Where On Earth ID for Denmark is 23424796\n",
    "WORLD_WOE_ID = 1 \n",
    "US_WOE_ID = 23424977\n",
    "DK_WOE_ID = 23424796\n",
    "\n",
    "# Find trends for each WOEID\n",
    "world_trends = twitter_api.trends.place(_id=WORLD_WOE_ID)\n",
    "us_trends = twitter_api.trends.place(_id=US_WOE_ID)\n",
    "dk_trends = twitter_api.trends.place(_id=DK_WOE_ID)"
   ]
  },
  {
   "cell_type": "code",
   "execution_count": 113,
   "metadata": {},
   "outputs": [],
   "source": [
    "# Structure trends\n",
    "world_trends_set = set([trend['name'] for trend in world_trends[0]['trends']])\n",
    "us_trends_set = set([trend['name'] for trend in us_trends[0]['trends']])\n",
    "dk_trends_set = set([trend['name'] for trend in dk_trends[0]['trends']])"
   ]
  },
  {
   "cell_type": "code",
   "execution_count": 114,
   "metadata": {},
   "outputs": [
    {
     "name": "stdout",
     "output_type": "stream",
     "text": [
      "{'Undertale 2', 'Mischief Night', '#NationalCandyCornDay', 'John Adams', 'Comeback Kid', 'Dr. Cohen', '#bookbirthday', '#HalloweenEve', '#HoyconMhoni', 'War of the Worlds', '#GoodreadsChoice', '#symgovsym', '#njcommute', '#TuesdayThoughts', 'WikiLeaks', '#FelizMartes', '#ShootOut1stWin', '#anchorbabies', '#TalentForward18', '#30Oct', '#WomenLeadNC', '#VoteToSaveAmerica', \"Hasn't Trump\", 'Duke Energy', 'Recording Academy', 'DACA', 'George Foreman', '#NYDSW', 'Reforma Contributiva', 'The Proposal', 'Constitution', 'Wing Bowl', 'Stephen Miller', 'James Shaw Jr.', 'Pharrell WIlliams', 'Ballot Next Week', '#Ask_EXO', '#devcon4', 'Jonathan Swan', 'General Electric', '7 Days', '#AdviceFromFutureUs', '#AppleEvent', 'WB 580', 'Jesus is the Messiah', 'The 14th', 'Fulton County', '#GIINForum18', '#MorningJoe', 'Massive Attack'}\n"
     ]
    }
   ],
   "source": [
    "print(us_trends_set)"
   ]
  },
  {
   "cell_type": "code",
   "execution_count": 117,
   "metadata": {},
   "outputs": [],
   "source": [
    "# Use Twittersearch\n",
    "\n",
    "q = 'FC København'\n",
    "count = 100\n",
    "\n",
    "search_results = twitter_api.search.tweets(q=q, count=count)\n",
    "statuses = search_results['statuses']\n",
    "\n",
    "num_tweets = len(statuses)"
   ]
  },
  {
   "cell_type": "code",
   "execution_count": 118,
   "metadata": {},
   "outputs": [
    {
     "name": "stdout",
     "output_type": "stream",
     "text": [
      "['RT @nordicfootpod: UEFA has announced its payments to clubs in Europe for last season. \\n\\n💰 Östersunds made a total of €6.62 million euros f…'\n",
      " 'RT @Fonoudi6eren: Så er det her. 3. afsnit af AGF - mellem håb og håbløshed. Vises også i forbindelse med FC København - AGF på @Canal9dk f…'\n",
      " 'RT @Fonoudi6eren: Så er det her. 3. afsnit af AGF - mellem håb og håbløshed. Vises også i forbindelse med FC København - AGF på @Canal9dk f…'\n",
      " 'RT @Fonoudi6eren: Så er det her. 3. afsnit af AGF - mellem håb og håbløshed. Vises også i forbindelse med FC København - AGF på @Canal9dk f…'\n",
      " 'RT @nordicfootpod: UEFA has announced its payments to clubs in Europe for last season. \\n\\n💰 Östersunds made a total of €6.62 million euros f…']\n"
     ]
    }
   ],
   "source": [
    "# Extract tweet text and find number of retweets.\n",
    "\n",
    "# Extract tweet texts using list comprehension\n",
    "tweet_texts = [statuses[i].get(\"text\") for i in range(num_tweets)]\n",
    "\n",
    "# Extract number of retweets texts using list comprehension\n",
    "num_retweets = [statuses[i].get(\"retweet_count\") for i in range(num_tweets)]\n",
    "\n",
    "# Find most popular tweet by finding maximum number of retweets in list \"num_retweets\"\n",
    "max_retweets = np.argmax(np.array(num_retweets))\n",
    "max_indices = np.array(num_retweets).argsort()[-5:][::-1]\n",
    "\n",
    "# Print text of most retweeted/most popular tweet\n",
    "#print(tweet_texts[max_retweets])\n",
    "\n",
    "print(np.array(tweet_texts)[max_indices])"
   ]
  },
  {
   "cell_type": "markdown",
   "metadata": {},
   "source": [
    "### ØVELSE (45 min, 20:00 - 20:45)"
   ]
  },
  {
   "cell_type": "markdown",
   "metadata": {},
   "source": [
    "### SPØRGSMÅL / BUFFERTID (15 min, 20:45 - 21:00)"
   ]
  }
 ],
 "metadata": {
  "kernelspec": {
   "display_name": "Python 3",
   "language": "python",
   "name": "python3"
  },
  "language_info": {
   "codemirror_mode": {
    "name": "ipython",
    "version": 3
   },
   "file_extension": ".py",
   "mimetype": "text/x-python",
   "name": "python",
   "nbconvert_exporter": "python",
   "pygments_lexer": "ipython3",
   "version": "3.6.5"
  }
 },
 "nbformat": 4,
 "nbformat_minor": 2
}
